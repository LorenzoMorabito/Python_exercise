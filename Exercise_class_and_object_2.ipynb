{
  "nbformat": 4,
  "nbformat_minor": 0,
  "metadata": {
    "colab": {
      "provenance": [],
      "authorship_tag": "ABX9TyO4B2TOxJeVc5yu5ET4qAu5",
      "include_colab_link": true
    },
    "kernelspec": {
      "name": "python3",
      "display_name": "Python 3"
    },
    "language_info": {
      "name": "python"
    }
  },
  "cells": [
    {
      "cell_type": "markdown",
      "metadata": {
        "id": "view-in-github",
        "colab_type": "text"
      },
      "source": [
        "<a href=\"https://colab.research.google.com/github/LorenzoMorabito/Python_exercise/blob/master/Exercise_class_and_object_2.ipynb\" target=\"_parent\"><img src=\"https://colab.research.google.com/assets/colab-badge.svg\" alt=\"Open In Colab\"/></a>"
      ]
    },
    {
      "cell_type": "markdown",
      "source": [
        "###Exercise - Classes and Object\n",
        "Now continue with the Animal class we had used before\n",
        "\n",
        "Add a method to count the legs count_legs which prints the number of legs\n",
        "\n",
        "Add a method to count the legs return_legs which returns the number of legs\n",
        "\n",
        "print number of legs directly from number_of_legs variable of the object"
      ],
      "metadata": {
        "id": "5-hbiLRe62u4"
      }
    },
    {
      "cell_type": "code",
      "source": [
        "class Animal:\n",
        "  def __init__(self, name, n_legs):\n",
        "    self.name = name\n",
        "    self.n_legs = n_legs\n",
        "    print(f\"Animal object {name} was created\")\n",
        "\n",
        "  def run(self): #method\n",
        "    return 'Running Started'\n",
        "\n",
        "#Add a method to count the legs count_legs which prints the number of legs\n",
        "  def count_legs(self):\n",
        "    return print(self.n_legs)\n",
        "\n",
        "#Add a method to count the legs return_legs which returns the number of legs\n",
        "  def return_legs(self):\n",
        "    return self.n_legs\n",
        "\n",
        "cat = Animal('Tom', 4)\n",
        "cat.run()\n",
        "\n",
        "print(cat.n_legs) #print number of legs directly from number_of_legs variable of the object\n",
        "cat.count_legs()\n",
        "cat.return_legs()"
      ],
      "metadata": {
        "colab": {
          "base_uri": "https://localhost:8080/"
        },
        "id": "lxjxu80o2lUo",
        "outputId": "b6b1ad17-f83a-4831-fa08-13f5e91378a1"
      },
      "execution_count": 10,
      "outputs": [
        {
          "output_type": "stream",
          "name": "stdout",
          "text": [
            "Animal object Tom was created\n",
            "4\n",
            "4\n"
          ]
        },
        {
          "output_type": "execute_result",
          "data": {
            "text/plain": [
              "4"
            ]
          },
          "metadata": {},
          "execution_count": 10
        }
      ]
    }
  ]
}