{
  "nbformat": 4,
  "nbformat_minor": 0,
  "metadata": {
    "colab": {
      "provenance": [],
      "authorship_tag": "ABX9TyNN8X+4lIkmpRt1ZAnKvDM4",
      "include_colab_link": true
    },
    "kernelspec": {
      "name": "python3",
      "display_name": "Python 3"
    },
    "language_info": {
      "name": "python"
    }
  },
  "cells": [
    {
      "cell_type": "markdown",
      "metadata": {
        "id": "view-in-github",
        "colab_type": "text"
      },
      "source": [
        "<a href=\"https://colab.research.google.com/github/LorenzoMorabito/Python_exercise/blob/master/String_Manipulation.ipynb\" target=\"_parent\"><img src=\"https://colab.research.google.com/assets/colab-badge.svg\" alt=\"Open In Colab\"/></a>"
      ]
    },
    {
      "cell_type": "markdown",
      "source": [
        "Create a string variable name\n",
        "\n",
        "Use string indexing to extract the first and last characters of the string.\n",
        "\n",
        "Use string slicing to extract the middle part of the string (e.g., \"middle\"\n",
        "\n",
        "from \"beginningmiddleend\").\n",
        "\n",
        "Concatenate two strings to create a new string.\n",
        "\n",
        "Use the len function to find the length of the string."
      ],
      "metadata": {
        "id": "GNzBmajN4EHV"
      }
    },
    {
      "cell_type": "code",
      "execution_count": 61,
      "metadata": {
        "colab": {
          "base_uri": "https://localhost:8080/"
        },
        "id": "-1pIMPLN4DFP",
        "outputId": "db2d2138-338c-4b9a-cf7f-96727fb08df9"
      },
      "outputs": [
        {
          "output_type": "stream",
          "name": "stdout",
          "text": [
            "phrase:  sahfk\n",
            "Reverse: kfhas\n",
            "Fist and Last characters is: \n",
            " Rix 1: sk \n",
            " Rix 2: sk\n",
            "The middle part is: ahf\n",
            " ciao mondo \n",
            " ciao mondo \n",
            " ciao mondo\n",
            "The longhest word is:mondo\n"
          ]
        }
      ],
      "source": [
        "import random\n",
        "#!pip install srting\n",
        "import string\n",
        "\n",
        "length = 5\n",
        "char = string.ascii_lowercase\n",
        "\n",
        "phrase = ''.join(random.choice(char) for num in range(length))\n",
        "\n",
        "#phrase = [random.choice(char) for num in range(length)]\n",
        "\n",
        "print('phrase: ',phrase)\n",
        "c = phrase[-1::-1]\n",
        "print('Reverse: '+c)\n",
        "#Use string indexing to extract the first and last characters of the string.\n",
        "\n",
        "a = phrase[0]+phrase[-1]\n",
        "b = phrase[0::length-1]\n",
        "\n",
        "\n",
        "print('Fist and Last characters is:','\\n','Rix 1: '+a,'\\n','Rix 2: '+b)\n",
        "\n",
        "\n",
        "#Use string slicing to extract the middle part of the string (e.g., \"middle\"\n",
        "\n",
        "half = len(phrase)//2\n",
        "d = phrase[half-1:half+2]\n",
        "print('The middle part is:',d)\n",
        "\n",
        "#Concatenate two strings to create a new string.\n",
        "e = 'ciao'\n",
        "f = 'mondo'\n",
        "\n",
        "#1\n",
        "g = e+' '+f\n",
        "h = f'{e} {f}'\n",
        "i = ' '.join([e,f])\n",
        "print(' '+g,'\\n',h,'\\n',i)\n",
        "\n",
        "#Use the len function to find the length of the string.\n",
        "if len(e) > len(f):\n",
        "      print(f'The longhest word is: {e}')\n",
        "elif len(e) < len(f):\n",
        "      print('The longhest word is:'+f)\n",
        "else:\n",
        "  print('The words are egual in lenght')"
      ]
    }
  ]
}