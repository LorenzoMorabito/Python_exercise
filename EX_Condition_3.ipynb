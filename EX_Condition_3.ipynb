{
  "nbformat": 4,
  "nbformat_minor": 0,
  "metadata": {
    "colab": {
      "provenance": [],
      "authorship_tag": "ABX9TyNf4AmqCB2j/uyyHb357w9G",
      "include_colab_link": true
    },
    "kernelspec": {
      "name": "python3",
      "display_name": "Python 3"
    },
    "language_info": {
      "name": "python"
    }
  },
  "cells": [
    {
      "cell_type": "markdown",
      "metadata": {
        "id": "view-in-github",
        "colab_type": "text"
      },
      "source": [
        "<a href=\"https://colab.research.google.com/github/LorenzoMorabito/Python_exercise/blob/master/EX_Condition_3.ipynb\" target=\"_parent\"><img src=\"https://colab.research.google.com/assets/colab-badge.svg\" alt=\"Open In Colab\"/></a>"
      ]
    },
    {
      "cell_type": "markdown",
      "source": [
        "Compare those 2 numbers and write X greater than Y\n",
        "But be sure you are making the check for all the conditions\n"
      ],
      "metadata": {
        "id": "fUDe2FLQXL_M"
      }
    },
    {
      "cell_type": "code",
      "execution_count": null,
      "metadata": {
        "colab": {
          "base_uri": "https://localhost:8080/"
        },
        "id": "FNkfTid3U2dg",
        "outputId": "8be116a8-2d91-46fb-ceec-48c6b22fb018"
      },
      "outputs": [
        {
          "output_type": "stream",
          "name": "stdout",
          "text": [
            "18 1\n",
            "y\n"
          ]
        }
      ],
      "source": [
        "import random\n",
        "\n",
        "number1 = random.randint(1,100)\n",
        "number2 = random.randint(1,100)\n",
        "\n",
        "print(number1, number2)\n",
        "\n",
        "\n",
        "if number1 == number2:\n",
        "  print('x = y')\n",
        "elif number1 < number2:\n",
        "  print('x')\n",
        "else:\n",
        "  print('y')\n",
        "\n"
      ]
    }
  ]
}