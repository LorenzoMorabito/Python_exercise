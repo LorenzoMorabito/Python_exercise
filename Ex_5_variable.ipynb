{
  "nbformat": 4,
  "nbformat_minor": 0,
  "metadata": {
    "colab": {
      "provenance": [],
      "authorship_tag": "ABX9TyNcxtnSo+J399ZCPEbUVPcv",
      "include_colab_link": true
    },
    "kernelspec": {
      "name": "python3",
      "display_name": "Python 3"
    },
    "language_info": {
      "name": "python"
    }
  },
  "cells": [
    {
      "cell_type": "markdown",
      "metadata": {
        "id": "view-in-github",
        "colab_type": "text"
      },
      "source": [
        "<a href=\"https://colab.research.google.com/github/LorenzoMorabito/Python_exercise/blob/master/Ex_5_variable.ipynb\" target=\"_parent\"><img src=\"https://colab.research.google.com/assets/colab-badge.svg\" alt=\"Open In Colab\"/></a>"
      ]
    },
    {
      "cell_type": "markdown",
      "source": [
        "Using string slicing to extract the first and last characters of the user's name.\n",
        "___________________________________________________________________________\n",
        "Using string methods to check if the user's name contains any digits.\n",
        "\n",
        "___________________________________________________________________________\n",
        "Using the replace() method to replace a specific word in the sentence about the user.\n",
        "\n",
        "___________________________________________________________________________\n",
        "Using the split() method to split the sentence about the user into a list of words and print each word on a new line."
      ],
      "metadata": {
        "id": "FFmP9e_RTNGO"
      }
    },
    {
      "cell_type": "markdown",
      "source": [],
      "metadata": {
        "id": "nDPJR8RFpJF4"
      }
    },
    {
      "cell_type": "code",
      "source": [
        "name = 'Marco Polo'\n",
        "a = name[0]\n",
        "b = name[-1]\n",
        "c = name[::9]\n",
        "\n",
        "print (a,b)\n",
        "print(c)\n",
        "\n",
        "#Using string methods to check if the user's name contains any digits.\n",
        "\n",
        "d = name.isdigit()\n",
        "e = f\"Does the sentence '{name}' contain any digits?\"\n",
        "print(e+' '+str(d)+'!')\n",
        "\n",
        "#Using the replace() method to replace a specific word in the sentence about the user.\n",
        "\n",
        "f = e.replace('sentence', 'phrase')\n",
        "print(f)\n",
        "\n",
        "#Using the split() method to split the sentence about the user into a list of words and print each word on a new line.\n",
        "\n",
        "g = f.split()\n",
        "\n",
        "for element in g:\n",
        "  print(element)\n"
      ],
      "metadata": {
        "id": "FmUTneXYTODV",
        "colab": {
          "base_uri": "https://localhost:8080/"
        },
        "outputId": "7e6eca90-c87b-40de-8fd6-513a7997078d"
      },
      "execution_count": 14,
      "outputs": [
        {
          "output_type": "stream",
          "name": "stdout",
          "text": [
            "M o\n",
            "Mo\n",
            "Does the sentence 'Marco Polo' contain any digits? False!\n",
            "Does the phrase 'Marco Polo' contain any digits?\n",
            "Does\n",
            "the\n",
            "phrase\n",
            "'Marco\n",
            "Polo'\n",
            "contain\n",
            "any\n",
            "digits?\n"
          ]
        }
      ]
    }
  ]
}