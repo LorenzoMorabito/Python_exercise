{
  "nbformat": 4,
  "nbformat_minor": 0,
  "metadata": {
    "colab": {
      "provenance": [],
      "authorship_tag": "ABX9TyPIcyj9b1JrMCew4XfUK2XX",
      "include_colab_link": true
    },
    "kernelspec": {
      "name": "python3",
      "display_name": "Python 3"
    },
    "language_info": {
      "name": "python"
    }
  },
  "cells": [
    {
      "cell_type": "markdown",
      "metadata": {
        "id": "view-in-github",
        "colab_type": "text"
      },
      "source": [
        "<a href=\"https://colab.research.google.com/github/LorenzoMorabito/Python_exercise/blob/master/Ex_2_ariable.ipynb\" target=\"_parent\"><img src=\"https://colab.research.google.com/assets/colab-badge.svg\" alt=\"Open In Colab\"/></a>"
      ]
    },
    {
      "cell_type": "markdown",
      "source": [
        "Create two variables called name and age.\n",
        "Then create a variable called hello and print the name and the age. Use the formatted string literal."
      ],
      "metadata": {
        "id": "lYjecThcsEaW"
      }
    },
    {
      "cell_type": "code",
      "execution_count": 4,
      "metadata": {
        "colab": {
          "base_uri": "https://localhost:8080/"
        },
        "id": "d1LjegqNr_L3",
        "outputId": "7223a551-a8e7-46fb-9774-ecfb8849e9dc"
      },
      "outputs": [
        {
          "output_type": "stream",
          "name": "stdout",
          "text": [
            "Hello, my name is Marco and I'm 25 years old\n"
          ]
        }
      ],
      "source": [
        "name = 'Marco'\n",
        "age = 25\n",
        "hello = f\"Hello, my name is {name} and I'm {age} years old\"\n",
        "print(hello)"
      ]
    }
  ]
}