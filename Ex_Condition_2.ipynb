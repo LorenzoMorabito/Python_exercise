{
  "nbformat": 4,
  "nbformat_minor": 0,
  "metadata": {
    "colab": {
      "provenance": [],
      "authorship_tag": "ABX9TyMTghrfu/Sm1qbFAikbudt0",
      "include_colab_link": true
    },
    "kernelspec": {
      "name": "python3",
      "display_name": "Python 3"
    },
    "language_info": {
      "name": "python"
    }
  },
  "cells": [
    {
      "cell_type": "markdown",
      "metadata": {
        "id": "view-in-github",
        "colab_type": "text"
      },
      "source": [
        "<a href=\"https://colab.research.google.com/github/LorenzoMorabito/Python_exercise/blob/master/Ex_Condition_2.ipynb\" target=\"_parent\"><img src=\"https://colab.research.google.com/assets/colab-badge.svg\" alt=\"Open In Colab\"/></a>"
      ]
    },
    {
      "cell_type": "markdown",
      "source": [
        "check if number1 is greater than number 2\n",
        "\n",
        "and print number1 is greater than number2\n",
        "\n",
        "then check and if number 2 is greater than number 1\n",
        "\n",
        "and print number2 is greater than number1\n",
        "\n",
        "finally at the end if both conditions incorrect print number2 equals to number1\n",
        "\n",
        "number1 = 66 number2 = 66"
      ],
      "metadata": {
        "id": "wwu11hJ_Twbo"
      }
    },
    {
      "cell_type": "code",
      "execution_count": null,
      "metadata": {
        "colab": {
          "base_uri": "https://localhost:8080/"
        },
        "id": "0y2lYr6HTtJ2",
        "outputId": "353316fa-3d35-419d-bc96-9858821591a9"
      },
      "outputs": [
        {
          "output_type": "stream",
          "name": "stdout",
          "text": [
            "67\n"
          ]
        }
      ],
      "source": [
        "num1 = 67\n",
        "num2 = 66\n",
        "\n",
        "if num1 == num2:\n",
        "  print ( 'sono uguali')\n",
        "else:\n",
        "  print(max(num1,num2))\n",
        "\n",
        "\n"
      ]
    }
  ]
}