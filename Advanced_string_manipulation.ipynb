{
  "nbformat": 4,
  "nbformat_minor": 0,
  "metadata": {
    "colab": {
      "provenance": [],
      "authorship_tag": "ABX9TyMklR4UE1AIf2r8+h87BHxH",
      "include_colab_link": true
    },
    "kernelspec": {
      "name": "python3",
      "display_name": "Python 3"
    },
    "language_info": {
      "name": "python"
    }
  },
  "cells": [
    {
      "cell_type": "markdown",
      "metadata": {
        "id": "view-in-github",
        "colab_type": "text"
      },
      "source": [
        "<a href=\"https://colab.research.google.com/github/LorenzoMorabito/Python_exercise/blob/master/Advanced_string_manipulation.ipynb\" target=\"_parent\"><img src=\"https://colab.research.google.com/assets/colab-badge.svg\" alt=\"Open In Colab\"/></a>"
      ]
    },
    {
      "cell_type": "markdown",
      "source": [
        "Create a string variable quote.\n",
        "\n",
        "Use string slicing to extract a specific word from the string\n",
        "\n",
        "\n",
        "*   (e.g., \"is\" from \"This is a quote.\")\n",
        "\n",
        "\n",
        "Use string methods to change the case of the string\n",
        "\n",
        "- (e.g., upper, lower, title).\n",
        "\n",
        "Use string methods to remove specific characters from the string\n",
        "\n",
        "- (e.g., replace, strip)\n",
        "\n",
        "Use string formatting to insert a variable into the string\n",
        "\n",
        "- (e.g., {})."
      ],
      "metadata": {
        "id": "g94ymOWbgyGb"
      }
    },
    {
      "cell_type": "code",
      "execution_count": 42,
      "metadata": {
        "colab": {
          "base_uri": "https://localhost:8080/"
        },
        "id": "gmdgp9VvgvsV",
        "outputId": "d00b8ce1-9131-4e07-cda5-76d02cc0ae3d"
      },
      "outputs": [
        {
          "output_type": "stream",
          "name": "stdout",
          "text": [
            "dai mai fai\n",
            "mai\n",
            " DAI MAI FAI \n",
            " dai mai fai \n",
            " Dai Mai Fai \n",
            " Dai Mai Fai\n",
            "dai mai fai <class 'str'>\n",
            "dai mai f\n",
            "La frase è: dai mai fai\n"
          ]
        }
      ],
      "source": [
        "import random\n",
        "import string\n",
        "\n",
        "# Creazione di una stringa casuale\n",
        "\n",
        "vocabulary = ['cia', 'che', 'fai', 'mio', 'tuo', 'suo', 'ora', 'dai', 'mai']\n",
        "\n",
        "'''with open('1000_parole_italiane_comuni.txt', 'r') as file:\n",
        "  for word in file:\n",
        "    if len(word.strip()) == 3:\n",
        "      vocabulary.append(word.strip())'''\n",
        "\n",
        "str_length = 3\n",
        "\n",
        "phrase = ' '.join([random.choice(vocabulary)for num in range(str_length)])\n",
        "\n",
        "print(phrase) # Test della nostra stringa\n",
        "\n",
        "# - 1) Use string slicing to extract a specific word from the string\n",
        "print(phrase[4:7])\n",
        "\n",
        "# - 2) Use string methods to change the case of the string\n",
        "a = phrase.upper()\n",
        "b = phrase.lower()\n",
        "f = phrase.title()\n",
        "\n",
        "c = phrase.split()\n",
        "d = ' '.join([word.capitalize()for word in c])\n",
        "\n",
        "print(' '+a,'\\n', b,'\\n', f,'\\n', d )\n",
        "\n",
        "#Use string methods to remove specific characters from the string\n",
        "e = phrase.replace(phrase[8:], random.choice(vocabulary))\n",
        "print(phrase,type(phrase))\n",
        "\n",
        "\n",
        "g = phrase.strip(\"aeiou\") # Perchè il metodo strip agisce solo selle lettere dell'ultima parola ?????\n",
        "print(g)\n",
        "\n",
        "#Use string formatting to insert a variable into the string\n",
        "\n",
        "print(f'La frase è: {phrase}')"
      ]
    }
  ]
}