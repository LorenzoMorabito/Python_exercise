{
  "nbformat": 4,
  "nbformat_minor": 0,
  "metadata": {
    "colab": {
      "provenance": [],
      "authorship_tag": "ABX9TyO2vlXJuo3B+aXNywt0NaMZ",
      "include_colab_link": true
    },
    "kernelspec": {
      "name": "python3",
      "display_name": "Python 3"
    },
    "language_info": {
      "name": "python"
    }
  },
  "cells": [
    {
      "cell_type": "markdown",
      "metadata": {
        "id": "view-in-github",
        "colab_type": "text"
      },
      "source": [
        "<a href=\"https://colab.research.google.com/github/LorenzoMorabito/Python_exercise/blob/master/Algorithm_for_assigning_tasks.ipynb\" target=\"_parent\"><img src=\"https://colab.research.google.com/assets/colab-badge.svg\" alt=\"Open In Colab\"/></a>"
      ]
    },
    {
      "cell_type": "code",
      "execution_count": 1,
      "metadata": {
        "colab": {
          "base_uri": "https://localhost:8080/"
        },
        "id": "iMdKgDYswK4_",
        "outputId": "5e7c62b2-7ce6-4df8-9ddd-b156fa11fa9f"
      },
      "outputs": [
        {
          "output_type": "stream",
          "name": "stdout",
          "text": [
            "Inserisci numero di task?4\n",
            "Task 1?: a\n",
            "Task 2?: b\n",
            "Task 3?: c\n",
            "Task 4?: d\n",
            "d assegnata a Salvatore \n",
            "b assegnata a Manuela \n",
            "b assegnata a Stefano \n",
            "d assegnata a Lorenzo \n"
          ]
        }
      ],
      "source": [
        "# Algoritmo per l'assegnamento delle task settimanali -- Algorithm for assigning weekly tasks\n",
        "\n",
        "#importo la libreria 'random', 'math' -- -- import library 'random', 'math'\n",
        "import random\n",
        "import math\n",
        "\n",
        "#creazione della variabile task_list tramite input statement\n",
        "\n",
        "while True:\n",
        "  n = input('Inserisci numero di task?')\n",
        "  if n.isdigit() and int(n)>0:\n",
        "    break\n",
        "  elif not n.isdigit():\n",
        "    print('Inserisci un numero intero')\n",
        "  else:\n",
        "    print('Inserisci un numero > 0')\n",
        "\n",
        "n_task= int(n)\n",
        "\n",
        "\n",
        "\n",
        "task_list = []\n",
        "\n",
        "#Ciclo for per la creazione della lista task_list -- For loop for creating the task_list list\n",
        "for n in range(int(n_task)):\n",
        "  task = input(f'Task {n+1}?: ')\n",
        "  task_list.append(task)\n",
        "\n",
        "\n",
        "#Variabile studenti -- #Student variable\n",
        "stud= ('Salvatore', 'Manuela', 'Stefano', 'Lorenzo')\n",
        "\n",
        "\n",
        "#Per assegnare un numero equo di task agli studenti effettuo la divisione approssimata sempre per eccesso attraverso math.ceil()\n",
        "#To assign the same number of tasks to the students I always carry out the approximate division by excess through math.ceil()\n",
        "n_stud = len(stud)\n",
        "n_assegnazioni = math.ceil(n_task / n_stud)\n",
        "\n",
        "\n",
        "#Assegnazione delle task per ogni studente tramite ciclo FOR -- Assegnazione delle task per ogni studente usando il  ciclo for\n",
        "\"\"\"Per iterare su gli studenti all'interno della lista senza che vengano assegnati doppioni\n",
        "creo una copia temporanea della lista delle task e per ogni iterazione vado a sottrarvi la task assegnata.\n",
        "\n",
        "to avoid double duplication for each student I create a temporary copy of the list of tasks\n",
        "and then from this copy I subtract the assigned tasksom this copy\"\"\"\n",
        "\n",
        "for studente in stud:\n",
        "  copia_task_list = task_list.copy() #Creazione copia lista -- Creation temporary list copy\n",
        "  for _ in range(n_assegnazioni): #Uso il valore della divisione n_Task/ n_Stud come numero di task assegnabili -- define the n assignable dit per student\n",
        "      task_random = random.choice(copia_task_list)\n",
        "      copia_task_list.remove(task_random) #Applico il remove.() sulla lista temporanea -- rimozione delle  task assegnate\n",
        "      print(f'{task_random} assegnata a {studente} ')\n",
        "\n",
        "\n"
      ]
    }
  ]
}