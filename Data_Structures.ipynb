{
  "nbformat": 4,
  "nbformat_minor": 0,
  "metadata": {
    "colab": {
      "provenance": [],
      "authorship_tag": "ABX9TyNS8HE9PwCJxCpQ3vp0nfmh",
      "include_colab_link": true
    },
    "kernelspec": {
      "name": "python3",
      "display_name": "Python 3"
    },
    "language_info": {
      "name": "python"
    }
  },
  "cells": [
    {
      "cell_type": "markdown",
      "metadata": {
        "id": "view-in-github",
        "colab_type": "text"
      },
      "source": [
        "<a href=\"https://colab.research.google.com/github/LorenzoMorabito/Python_exercise/blob/master/Data_Structures.ipynb\" target=\"_parent\"><img src=\"https://colab.research.google.com/assets/colab-badge.svg\" alt=\"Open In Colab\"/></a>"
      ]
    },
    {
      "cell_type": "code",
      "execution_count": null,
      "metadata": {
        "id": "KgR9BDkssvw3"
      },
      "outputs": [],
      "source": []
    },
    {
      "cell_type": "markdown",
      "source": [
        "Remember:\n",
        "\n",
        " list,set,dictionary are mutable\n",
        "\n",
        " tuple is immutable list,tuple elements can be reached by index\n",
        "\n",
        "\n",
        "for dictionary it is not an option to reach by index the element key has to be known to reach\n",
        "\n",
        "\n",
        "and for set the items cannot be reached directly but it is possible to iterate."
      ],
      "metadata": {
        "id": "k6zxoB6ps3VH"
      }
    },
    {
      "cell_type": "code",
      "source": [
        "list1 = [\"lion\", \"monkey\", \"dog\",\"fish\"]\n",
        "tuple1 = (\"lion\", \"monkey\", \"dog\",\"fish\")\n",
        "set1 = {\"lion\", \"monkey\", \"dog\",\"fish\"}\n",
        "dict1 = {\"lion\":4, \"monkey\":2, \"dog\":4,\"fish\":2}\n"
      ],
      "metadata": {
        "id": "m2row1sytbil"
      },
      "execution_count": 5,
      "outputs": []
    },
    {
      "cell_type": "markdown",
      "source": [
        "1. print the lengths of `list1`,`tuple1`,`set1`,`dict1`"
      ],
      "metadata": {
        "id": "5UDdaHrxtdfY"
      }
    },
    {
      "cell_type": "code",
      "source": [
        "print(len(list1),'\\n', len(tuple1),'\\n', len(set1),'\\n', len(dict1))\n"
      ],
      "metadata": {
        "colab": {
          "base_uri": "https://localhost:8080/"
        },
        "id": "SNbUQU2vt-zs",
        "outputId": "cd8f4175-e8da-4732-8dd5-17082d939b2d"
      },
      "execution_count": null,
      "outputs": [
        {
          "output_type": "stream",
          "name": "stdout",
          "text": [
            "4 \n",
            " 4 \n",
            " 4 \n",
            " 4\n"
          ]
        }
      ]
    },
    {
      "cell_type": "markdown",
      "source": [
        "2. print the first element of `list1` and `tuple1`"
      ],
      "metadata": {
        "id": "wBW0P56hti8v"
      }
    },
    {
      "cell_type": "code",
      "source": [
        "\n",
        "print(list1[1], tuple1[1])"
      ],
      "metadata": {
        "colab": {
          "base_uri": "https://localhost:8080/"
        },
        "id": "HR0PCAJivKVq",
        "outputId": "46a4e8e2-27b7-4432-9876-fb115190cc77"
      },
      "execution_count": null,
      "outputs": [
        {
          "output_type": "stream",
          "name": "stdout",
          "text": [
            "monkey monkey\n"
          ]
        }
      ]
    },
    {
      "cell_type": "markdown",
      "source": [
        "3. print the value of `lion` key of `dict1`"
      ],
      "metadata": {
        "id": "vjXlfp20tvg-"
      }
    },
    {
      "cell_type": "code",
      "source": [
        "\n",
        "\n",
        "print(dict1.get('lion'))\n",
        "\n",
        "print(dict1['lion'])\n",
        "\n",
        "for animal, value in dict1.items():\n",
        "  if animal == 'lion':\n",
        "    print(value)\n",
        "\n"
      ],
      "metadata": {
        "colab": {
          "base_uri": "https://localhost:8080/"
        },
        "id": "dvoz2JT5v_fH",
        "outputId": "ecd8235a-d6af-4bf8-f3b1-fb263349d6c2"
      },
      "execution_count": null,
      "outputs": [
        {
          "output_type": "stream",
          "name": "stdout",
          "text": [
            "4\n",
            "4\n",
            "4\n"
          ]
        }
      ]
    },
    {
      "cell_type": "markdown",
      "source": [
        "4. change the 2nd position element of `list1` to \"rabbit\""
      ],
      "metadata": {
        "id": "kXqeRBF5tvug"
      }
    },
    {
      "cell_type": "code",
      "source": [
        "\n",
        "list1[1] = 'rabbit'\n"
      ],
      "metadata": {
        "id": "T9QK6RbK1Gw4"
      },
      "execution_count": 31,
      "outputs": []
    },
    {
      "cell_type": "code",
      "source": [
        "list1.insert(2, 'monkey')\n"
      ],
      "metadata": {
        "id": "GTHmxd3p2BVS"
      },
      "execution_count": 32,
      "outputs": []
    },
    {
      "cell_type": "code",
      "source": [
        "print(list1)"
      ],
      "metadata": {
        "colab": {
          "base_uri": "https://localhost:8080/"
        },
        "id": "bYn7Kz7E3Onj",
        "outputId": "0f8084a9-cbbb-4f46-95bb-b64594858c27"
      },
      "execution_count": 33,
      "outputs": [
        {
          "output_type": "stream",
          "name": "stdout",
          "text": [
            "['lion', 'rabbit', 'monkey', 'dog', 'fish', 'monkey', 'p', 'a', 'r', 'r', 'o', 't', 'p', 'a', 'r', 'r', 'o', 't', 'parrot', 'cow']\n"
          ]
        }
      ]
    },
    {
      "cell_type": "markdown",
      "source": [
        "5. try to change the 2nd position element of the tuple to \"rabbit\" and explain what happened."
      ],
      "metadata": {
        "id": "a7Xpkybxtv05"
      }
    },
    {
      "cell_type": "code",
      "source": [
        "#la tupla è una struttura dati con la caratteristica dell'immutabilità, ciò rende impossibile cambiare i dati al suo ionterno una volta che la tupla è stata creata\n",
        "\n",
        "print(tuple1[1])\n",
        "\n",
        "tuple1[1] = 'rabbit'"
      ],
      "metadata": {
        "colab": {
          "base_uri": "https://localhost:8080/",
          "height": 226
        },
        "id": "y8HgKzsm4AYy",
        "outputId": "bd0da03b-1379-4b06-aa96-600cacc62ad0"
      },
      "execution_count": 8,
      "outputs": [
        {
          "output_type": "stream",
          "name": "stdout",
          "text": [
            "monkey\n"
          ]
        },
        {
          "output_type": "error",
          "ename": "TypeError",
          "evalue": "ignored",
          "traceback": [
            "\u001b[0;31m---------------------------------------------------------------------------\u001b[0m",
            "\u001b[0;31mTypeError\u001b[0m                                 Traceback (most recent call last)",
            "\u001b[0;32m<ipython-input-8-d8894a675787>\u001b[0m in \u001b[0;36m<cell line: 5>\u001b[0;34m()\u001b[0m\n\u001b[1;32m      3\u001b[0m \u001b[0mprint\u001b[0m\u001b[0;34m(\u001b[0m\u001b[0mtuple1\u001b[0m\u001b[0;34m[\u001b[0m\u001b[0;36m1\u001b[0m\u001b[0;34m]\u001b[0m\u001b[0;34m)\u001b[0m\u001b[0;34m\u001b[0m\u001b[0;34m\u001b[0m\u001b[0m\n\u001b[1;32m      4\u001b[0m \u001b[0;34m\u001b[0m\u001b[0m\n\u001b[0;32m----> 5\u001b[0;31m \u001b[0mtuple1\u001b[0m\u001b[0;34m[\u001b[0m\u001b[0;36m1\u001b[0m\u001b[0;34m]\u001b[0m \u001b[0;34m=\u001b[0m \u001b[0;34m'rabbit'\u001b[0m\u001b[0;34m\u001b[0m\u001b[0;34m\u001b[0m\u001b[0m\n\u001b[0m",
            "\u001b[0;31mTypeError\u001b[0m: 'tuple' object does not support item assignment"
          ]
        }
      ]
    },
    {
      "cell_type": "code",
      "source": [
        "print(tuple1)\n",
        "\n",
        "\n",
        "tuple1.index('lion')\n",
        "tuple1.index('fish')\n",
        "\n",
        "tuple1.count('dog')"
      ],
      "metadata": {
        "colab": {
          "base_uri": "https://localhost:8080/"
        },
        "id": "h5qy1yqu_F9H",
        "outputId": "c6005f92-4c38-448a-cf43-4a7a6d9aae68"
      },
      "execution_count": 22,
      "outputs": [
        {
          "output_type": "stream",
          "name": "stdout",
          "text": [
            "('lion', 'monkey', 'dog', 'fish')\n"
          ]
        },
        {
          "output_type": "execute_result",
          "data": {
            "text/plain": [
              "1"
            ]
          },
          "metadata": {},
          "execution_count": 22
        }
      ]
    },
    {
      "cell_type": "markdown",
      "source": [
        "6. add \"monkey\" to `list1`"
      ],
      "metadata": {
        "id": "w9I42DeVtwCV"
      }
    },
    {
      "cell_type": "code",
      "source": [
        "list1.append('monkey')"
      ],
      "metadata": {
        "id": "_mhg3S5o71u0"
      },
      "execution_count": 23,
      "outputs": []
    },
    {
      "cell_type": "code",
      "source": [
        "# Test personale\n",
        "list1.extend('parot')"
      ],
      "metadata": {
        "id": "C3MOe-JR8H8E"
      },
      "execution_count": null,
      "outputs": []
    },
    {
      "cell_type": "code",
      "source": [
        "# Test personale\n",
        "list2 = ('parrot', 'cow')\n",
        "list1.extend(list2)"
      ],
      "metadata": {
        "id": "xH_PIZqO8piR"
      },
      "execution_count": 29,
      "outputs": []
    },
    {
      "cell_type": "markdown",
      "source": [
        "7. remove \"rabbit\" from `list1`"
      ],
      "metadata": {
        "id": "Y-M7yMcptwKJ"
      }
    },
    {
      "cell_type": "code",
      "source": [
        "list1.remove('rabbit')"
      ],
      "metadata": {
        "id": "Oy54HpgDAO7F"
      },
      "execution_count": 35,
      "outputs": []
    },
    {
      "cell_type": "code",
      "source": [
        "#dog\n",
        "list1.pop(2) #rimuove l'elemento e restituisce il valore rimosso"
      ],
      "metadata": {
        "colab": {
          "base_uri": "https://localhost:8080/",
          "height": 36
        },
        "id": "ggrwT_YaBBKJ",
        "outputId": "e4126d81-afc1-4863-93dd-071d13a8e6d8"
      },
      "execution_count": 38,
      "outputs": [
        {
          "output_type": "execute_result",
          "data": {
            "text/plain": [
              "'dog'"
            ],
            "application/vnd.google.colaboratory.intrinsic+json": {
              "type": "string"
            }
          },
          "metadata": {},
          "execution_count": 38
        }
      ]
    },
    {
      "cell_type": "code",
      "source": [
        "print(list1)"
      ],
      "metadata": {
        "colab": {
          "base_uri": "https://localhost:8080/"
        },
        "id": "uuv9Qjph78D4",
        "outputId": "2990224b-3f1a-4a68-cd22-90b8b7bb599d"
      },
      "execution_count": 39,
      "outputs": [
        {
          "output_type": "stream",
          "name": "stdout",
          "text": [
            "['lion', 'monkey', 'fish', 'monkey', 'p', 'a', 'r', 'r', 'o', 't', 'p', 'a', 'r', 'r', 'o', 't', 'parrot', 'cow']\n"
          ]
        }
      ]
    },
    {
      "cell_type": "markdown",
      "source": [
        "8. in `dict1` the number of feet is written as value to each animal the fish has wrong value just fix it."
      ],
      "metadata": {
        "id": "MIrtuRAgtv7h"
      }
    },
    {
      "cell_type": "code",
      "source": [
        "dict1['fish'] = 0"
      ],
      "metadata": {
        "id": "na8PaysVB7v2"
      },
      "execution_count": 41,
      "outputs": []
    },
    {
      "cell_type": "code",
      "source": [
        "print(dict1)"
      ],
      "metadata": {
        "colab": {
          "base_uri": "https://localhost:8080/"
        },
        "id": "wIPdnQyDBuzs",
        "outputId": "cbcfd67f-b6d8-47ae-d518-38e08ee73fa0"
      },
      "execution_count": 42,
      "outputs": [
        {
          "output_type": "stream",
          "name": "stdout",
          "text": [
            "{'lion': 4, 'monkey': 2, 'dog': 4, 'fish': 0}\n"
          ]
        }
      ]
    }
  ]
}