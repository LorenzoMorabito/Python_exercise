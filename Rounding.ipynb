{
  "nbformat": 4,
  "nbformat_minor": 0,
  "metadata": {
    "colab": {
      "provenance": [],
      "authorship_tag": "ABX9TyP2/hUr7iUWm0cXu3Gg960d",
      "include_colab_link": true
    },
    "kernelspec": {
      "name": "python3",
      "display_name": "Python 3"
    },
    "language_info": {
      "name": "python"
    }
  },
  "cells": [
    {
      "cell_type": "markdown",
      "metadata": {
        "id": "view-in-github",
        "colab_type": "text"
      },
      "source": [
        "<a href=\"https://colab.research.google.com/github/LorenzoMorabito/Python_exercise/blob/master/Rounding.ipynb\" target=\"_parent\"><img src=\"https://colab.research.google.com/assets/colab-badge.svg\" alt=\"Open In Colab\"/></a>"
      ]
    },
    {
      "cell_type": "markdown",
      "source": [
        "Create a float variable float_num\n",
        "\n",
        "Use the round function to round float_num to 2 decimal places\n",
        "\n",
        "Store the result in a new variable rounded_num\n",
        "\n",
        "Print the original float_num and rounded_num"
      ],
      "metadata": {
        "id": "u2d1pOaXzTY5"
      }
    },
    {
      "cell_type": "code",
      "execution_count": 12,
      "metadata": {
        "colab": {
          "base_uri": "https://localhost:8080/"
        },
        "id": "kwfIgjgYzRAT",
        "outputId": "53b849e4-6db4-403f-eb9d-67ac160e2a7f"
      },
      "outputs": [
        {
          "output_type": "stream",
          "name": "stdout",
          "text": [
            "The value of 'float_num' is 22.328267889338097 and the round result is 22.33.\n"
          ]
        }
      ],
      "source": [
        "import random\n",
        "float_num = random.uniform(1.0, 100)\n",
        "\n",
        "rounded_num = round(float_num, 2)\n",
        "\n",
        "print(f\"The value of 'float_num' is {float_num} and the round result is {rounded_num}.\")\n"
      ]
    }
  ]
}