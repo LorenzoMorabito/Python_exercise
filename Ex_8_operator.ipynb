{
  "nbformat": 4,
  "nbformat_minor": 0,
  "metadata": {
    "colab": {
      "provenance": [],
      "authorship_tag": "ABX9TyNoy+PgHlyK9t+i0Vib7LL8",
      "include_colab_link": true
    },
    "kernelspec": {
      "name": "python3",
      "display_name": "Python 3"
    },
    "language_info": {
      "name": "python"
    }
  },
  "cells": [
    {
      "cell_type": "markdown",
      "metadata": {
        "id": "view-in-github",
        "colab_type": "text"
      },
      "source": [
        "<a href=\"https://colab.research.google.com/github/LorenzoMorabito/Python_exercise/blob/master/Ex_8_operator.ipynb\" target=\"_parent\"><img src=\"https://colab.research.google.com/assets/colab-badge.svg\" alt=\"Open In Colab\"/></a>"
      ]
    },
    {
      "cell_type": "markdown",
      "source": [
        "Given two variables a = 3 and b = 4, calculate and print the sum of a and b.\n",
        "Given two variables x = 7 and y = 2, calculate and print the difference of x and y.\n",
        "Given two variables p = 5 and q = 3, calculate and print the product of p and q.\n",
        "Given two variables m = 8 and n = 2, calculate and print the quotient of m divided by n and the remainder of m divided by n."
      ],
      "metadata": {
        "id": "duv5c4z47HSg"
      }
    },
    {
      "cell_type": "code",
      "execution_count": null,
      "metadata": {
        "colab": {
          "base_uri": "https://localhost:8080/"
        },
        "id": "5nA1t_457DAg",
        "outputId": "0d6458f8-71ac-492a-adda-e9f298855adb"
      },
      "outputs": [
        {
          "output_type": "stream",
          "name": "stdout",
          "text": [
            "7\n",
            "5\n",
            "15\n",
            "Quotient: 4 Remainder: 0\n"
          ]
        }
      ],
      "source": [
        "#Given two variables a = 3 and b = 4, calculate and print the sum of a and b.\n",
        "a=3\n",
        "b=4\n",
        "print(a+b)\n",
        "\n",
        "#Given two variables x = 7 and y = 2, calculate and print the difference of x and y.\n",
        "x=7\n",
        "y=2\n",
        "print(x-y)\n",
        "\n",
        "#Given two variables p = 5 and q = 3, calculate and print the product of p and q.\n",
        "\n",
        "p,q=5,3\n",
        "print(p*q)\n",
        "\n",
        "#Given two variables m = 8 and n = 2, calculate and print the quotient of m divided by n and the remainder of m divided by n.\n",
        "\n",
        "m,n=8,2\n",
        "print(f'Quotient: {m//n} Remainder: {m%n}')\n",
        "\n"
      ]
    }
  ]
}