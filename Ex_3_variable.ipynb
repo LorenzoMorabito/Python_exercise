{
  "nbformat": 4,
  "nbformat_minor": 0,
  "metadata": {
    "colab": {
      "provenance": [],
      "authorship_tag": "ABX9TyPFrR7yPH3ECH8zQxYtayL7",
      "include_colab_link": true
    },
    "kernelspec": {
      "name": "python3",
      "display_name": "Python 3"
    },
    "language_info": {
      "name": "python"
    }
  },
  "cells": [
    {
      "cell_type": "markdown",
      "metadata": {
        "id": "view-in-github",
        "colab_type": "text"
      },
      "source": [
        "<a href=\"https://colab.research.google.com/github/LorenzoMorabito/Python_exercise/blob/master/Ex_3_variable.ipynb\" target=\"_parent\"><img src=\"https://colab.research.google.com/assets/colab-badge.svg\" alt=\"Open In Colab\"/></a>"
      ]
    },
    {
      "cell_type": "markdown",
      "source": [
        "Creating variables for your name, age, and city of residence.\n",
        "\n",
        "Using string concatenation to display a sentence about yourself using the above variables.\n",
        "\n",
        "Modifying the variables to add a title (Mr. or Ms.) in front of your name.\n",
        "\n",
        "Using the string format method to display the same sentence as in exercise 2.\n",
        "\n"
      ],
      "metadata": {
        "id": "ikIEOjdnv68-"
      }
    },
    {
      "cell_type": "code",
      "source": [
        "name = 'Marco'\n",
        "age = 25\n",
        "city = 'Milano'\n",
        "\n",
        "#add Mr\n",
        "title = 'Mr'\n",
        "mr_name = ' '.join([title,name])\n",
        "\n",
        "#Hello, my name is Marco and I'm 25 years old\n",
        "hello = \"Hello, my name is \"+mr_name+\" and I'm \"+str(age)+' years old'\n",
        "print(hello)"
      ],
      "metadata": {
        "colab": {
          "base_uri": "https://localhost:8080/"
        },
        "id": "Dt--sx0m0qMV",
        "outputId": "6c83f6f4-c10b-46eb-8cb6-49cff0ab1006"
      },
      "execution_count": 12,
      "outputs": [
        {
          "output_type": "stream",
          "name": "stdout",
          "text": [
            "Hello, my name is Mr Marco and I'm 25 years old\n"
          ]
        }
      ]
    },
    {
      "cell_type": "markdown",
      "source": [
        "Create a variable called \"name\" and assign a string value to it and “age\" and assign an integer value to it, and Create a variable called \"height\" and assign a floating point value to it, and Create a variable called \"is_student\" and assign a boolean value to it.\n",
        "Print the type of each of variables from exercise 5 using format method or f string."
      ],
      "metadata": {
        "id": "UvljKPaQ7V7c"
      }
    },
    {
      "cell_type": "code",
      "source": [
        "name = 'Marco'\n",
        "age = 25\n",
        "height = 1.83\n",
        "is_student = True\n",
        "\n",
        "print(f'The type of variable name is: {type(name)}')\n",
        "print(f'The type of variable age is: {type(age)}')\n",
        "print(f'The type of variable height is: {type(height)}')\n",
        "print(f'The type of variable is_student is: {type(is_student)}')"
      ],
      "metadata": {
        "colab": {
          "base_uri": "https://localhost:8080/"
        },
        "id": "twHaoqy07b8p",
        "outputId": "fd44b3f7-0036-458e-e907-74fdc13c643c"
      },
      "execution_count": 14,
      "outputs": [
        {
          "output_type": "stream",
          "name": "stdout",
          "text": [
            "The type of variable name is: <class 'str'>\n",
            "The type of variable age is: <class 'int'>\n",
            "The type of variable height is: <class 'float'>\n",
            "The type of variable is_student is: <class 'bool'>\n"
          ]
        }
      ]
    }
  ]
}