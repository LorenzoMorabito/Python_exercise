{
  "nbformat": 4,
  "nbformat_minor": 0,
  "metadata": {
    "colab": {
      "provenance": [],
      "authorship_tag": "ABX9TyNyOSQXdQVIUhLLWFOmQ7Ym",
      "include_colab_link": true
    },
    "kernelspec": {
      "name": "python3",
      "display_name": "Python 3"
    },
    "language_info": {
      "name": "python"
    }
  },
  "cells": [
    {
      "cell_type": "markdown",
      "metadata": {
        "id": "view-in-github",
        "colab_type": "text"
      },
      "source": [
        "<a href=\"https://colab.research.google.com/github/LorenzoMorabito/Python_exercise/blob/master/Copia_di_Ex_operator_'10'.ipynb\" target=\"_parent\"><img src=\"https://colab.research.google.com/assets/colab-badge.svg\" alt=\"Open In Colab\"/></a>"
      ]
    },
    {
      "cell_type": "markdown",
      "source": [
        ".Given a string sentence = \"The quick brown fox jumps over the lazy dog.\", calculate and print the number of vowels in the sentence\n",
        "Given a list numbers = [1, 2, 3, 4, 5, 6, 7, 8, 9, 10], create and print a new list that contains only the odd numbers.\n",
        "Given a list mixed = [1, \"apple\", 3, \"banana\", 5, \"cherry\"], create and print two separate lists, one containing the numbers and one containing the strings."
      ],
      "metadata": {
        "id": "4qPkbnbjSHPi"
      }
    },
    {
      "cell_type": "code",
      "execution_count": null,
      "metadata": {
        "colab": {
          "base_uri": "https://localhost:8080/"
        },
        "id": "z72GeSbQR_ed",
        "outputId": "e990eaaf-873d-41d8-d34e-05b09c8104cf"
      },
      "outputs": [
        {
          "output_type": "stream",
          "name": "stdout",
          "text": [
            "11\n",
            "[1, 3, 5, 7, 9]\n",
            "[1, 3, 5, 7, 9]\n",
            "[1, 3, 5] ['apple', 'banana', 'cherry']\n",
            "[1, 3, 5] ['apple', 'banana', 'cherry']\n"
          ]
        }
      ],
      "source": [
        "#calculate and print the number of vowels in the sentence\n",
        "sentence = \"The quick brown fox jumps over the lazy dog.\"\n",
        "\n",
        "vowels = ['a','e','i','o','u']\n",
        "\n",
        "c = sum(sentence.count(vowel) for vowel in vowels)\n",
        "\n",
        "print(c)\n",
        "\n",
        "#create and print a new list that contains only the odd numbers.\n",
        "numbers = [1, 2, 3, 4, 5, 6, 7, 8, 9, 10]\n",
        "\n",
        "c = [num for num in numbers if num%2 != 0]\n",
        "print(c)\n",
        "\n",
        "d = []\n",
        "for num in numbers:\n",
        "  if num%2 !=0:\n",
        "    d.append(num)\n",
        "\n",
        "print(d)\n",
        "\n",
        "#create and print two separate lists, one containing the numbers and one containing the strings.\n",
        "mixed = [1, \"apple\", 3, \"banana\", 5, \"cherry\"]\n",
        "\n",
        "numbers,strings=[],[]\n",
        "\n",
        "for element in mixed:\n",
        "  if isinstance(element, int):\n",
        "    numbers.append(element)\n",
        "  elif isinstance(element, str):\n",
        "      strings.append(element)\n",
        "\n",
        "print(numbers, strings)\n",
        "\n",
        "n = [element for element in mixed if isinstance(element,int)]\n",
        "s = [element for element in mixed if isinstance(element,str)]\n",
        "\n",
        "print(n,s)\n"
      ]
    }
  ]
}