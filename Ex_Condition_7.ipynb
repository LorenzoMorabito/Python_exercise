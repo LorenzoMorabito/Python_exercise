{
  "nbformat": 4,
  "nbformat_minor": 0,
  "metadata": {
    "colab": {
      "provenance": [],
      "authorship_tag": "ABX9TyNj4YBScQsdG9t/+kdIMOXi",
      "include_colab_link": true
    },
    "kernelspec": {
      "name": "python3",
      "display_name": "Python 3"
    },
    "language_info": {
      "name": "python"
    }
  },
  "cells": [
    {
      "cell_type": "markdown",
      "metadata": {
        "id": "view-in-github",
        "colab_type": "text"
      },
      "source": [
        "<a href=\"https://colab.research.google.com/github/LorenzoMorabito/Python_exercise/blob/master/Ex_Condition_7.ipynb\" target=\"_parent\"><img src=\"https://colab.research.google.com/assets/colab-badge.svg\" alt=\"Open In Colab\"/></a>"
      ]
    },
    {
      "cell_type": "markdown",
      "source": [
        "Write a python program that inputs a letter from the user and check:\n",
        "\n",
        " if it is a vowel or consonant.\n",
        "\n",
        "\n",
        " If the letter is a vowel, print \"The letter is a vowel\".\n",
        "\n",
        " If the letter is a consonant, print \"The letter is a consonant\".\n",
        "\n",
        "\n",
        "\n",
        "\n",
        "\n"
      ],
      "metadata": {
        "id": "PQumLqj8QmPm"
      }
    },
    {
      "cell_type": "code",
      "execution_count": 10,
      "metadata": {
        "colab": {
          "base_uri": "https://localhost:8080/"
        },
        "id": "onTS0kYeQh2E",
        "outputId": "56a212f2-aff7-40ef-f021-224b2de25c2d"
      },
      "outputs": [
        {
          "output_type": "stream",
          "name": "stdout",
          "text": [
            "Enter a lettera\n",
            "The letter is a vowel\n"
          ]
        }
      ],
      "source": [
        "letter = str(input('Enter a letter'))\n",
        "vowel = ['a','e','i','o','u']\n",
        "if letter in vowel:\n",
        "  print(\"The letter is a vowel\")\n",
        "else:\n",
        "  print(\"The letter is a consonant\")"
      ]
    },
    {
      "cell_type": "markdown",
      "source": [
        "Write a python program that inputs a number from the user and checks\n",
        "\n",
        " if it is positive, negative, or zero. If the number is positive, print \"The number is positive\".\n",
        "\n",
        " If the number is negative, print \"The number is negative\".\n",
        "\n",
        " If the number is zero,\n",
        "\n",
        "  print \"The number is zero\"."
      ],
      "metadata": {
        "id": "8XvzuDrFZb1R"
      }
    },
    {
      "cell_type": "code",
      "source": [
        "number = int(input('Enter number'))\n",
        "if number > 0:\n",
        "  print(\"The number is positive\")\n",
        "elif number < 0:\n",
        "  print(\"The number is negative\")\n",
        "else:\n",
        "  print(\"The number is zero\")\n"
      ],
      "metadata": {
        "colab": {
          "base_uri": "https://localhost:8080/"
        },
        "id": "mDLDv8qbZcFl",
        "outputId": "fb44ecfe-ebee-4f92-8393-db4ef8a31128"
      },
      "execution_count": 2,
      "outputs": [
        {
          "output_type": "stream",
          "name": "stdout",
          "text": [
            "Enter number-3\n",
            "The number is negative\n"
          ]
        }
      ]
    },
    {
      "cell_type": "markdown",
      "source": [
        "Write a python program to check\n",
        " if a number is divisible by 5 and 11 or not.\n",
        "  If the number is divisible by 5 and 11,  print \"The number is divisible by 5 and 11\".\n",
        "  \n",
        "  If the number is not divisible by 5 and 11, print \"The number is not divisible by 5 and 11\"."
      ],
      "metadata": {
        "id": "SlUkk1cmZcPn"
      }
    },
    {
      "cell_type": "code",
      "source": [
        "number = int(input('Enter number'))\n",
        "if number % 5 == 0 and number % 11 == 0:\n",
        "  print(\"The number is divisible by 5 and 11\")\n",
        "else:\n",
        "  print(\"The number is not divisible by 5 and 11\")"
      ],
      "metadata": {
        "colab": {
          "base_uri": "https://localhost:8080/"
        },
        "id": "8jLgTXZ9ZcZI",
        "outputId": "3599c06c-7971-486e-a8eb-a7eeae5adcdd"
      },
      "execution_count": 4,
      "outputs": [
        {
          "output_type": "stream",
          "name": "stdout",
          "text": [
            "Enter number8\n",
            "The number is not divisible by 5 and 11\n"
          ]
        }
      ]
    }
  ]
}