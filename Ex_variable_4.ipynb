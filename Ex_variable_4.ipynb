{
  "nbformat": 4,
  "nbformat_minor": 0,
  "metadata": {
    "colab": {
      "provenance": [],
      "authorship_tag": "ABX9TyOaVCx8Hru9f4WJMONX8yiW",
      "include_colab_link": true
    },
    "kernelspec": {
      "name": "python3",
      "display_name": "Python 3"
    },
    "language_info": {
      "name": "python"
    }
  },
  "cells": [
    {
      "cell_type": "markdown",
      "metadata": {
        "id": "view-in-github",
        "colab_type": "text"
      },
      "source": [
        "<a href=\"https://colab.research.google.com/github/LorenzoMorabito/Python_exercise/blob/master/Ex_variable_4.ipynb\" target=\"_parent\"><img src=\"https://colab.research.google.com/assets/colab-badge.svg\" alt=\"Open In Colab\"/></a>"
      ]
    },
    {
      "cell_type": "markdown",
      "source": [
        "Using input() to ask the user for their name, age, and city of residence.\n",
        "Using variables to store the user's input and display a sentence about the user.\n",
        "___________________________________________________________________________\n",
        "\n",
        "Implementing the upper() and lower() methods to change the case of the variables.\n",
        "___________________________________________________________________________\n",
        "\n",
        "Using the len() function to find the length of each string and display it.\n",
        "___________________________________________________________________________"
      ],
      "metadata": {
        "id": "Q68w8D729Alq"
      }
    },
    {
      "cell_type": "code",
      "source": [
        "while True:\n",
        "  name = input('Insert your name?')\n",
        "  age = input('How old are you?')\n",
        "  city = input('Where do you live?')\n",
        "\n",
        "  #Check Input\n",
        "  if not name or not isinstance(name, str):\n",
        "      print('Invalid Name')\n",
        "      continue\n",
        "\n",
        "  if not age.isdigit() or int(age) <= 0:\n",
        "      print('invalid Age')\n",
        "      continue\n",
        "\n",
        "  if not city or not isinstance(city,str):\n",
        "      print('Invalid City')\n",
        "      continue\n",
        "  break\n",
        "\n",
        "phrase = f\"hello my name is {name} i'm {age} years old and i came from {city}\"\n",
        "print(phrase)\n",
        "\n",
        "#Implementing the upper() and lower() methods to change the case of the variables.\n",
        "print(phrase.upper())\n",
        "print(phrase.lower())\n",
        "\n",
        "#Using the len() function to find the length of each string and display it.\n",
        "lenght_name = len(name)\n",
        "lenght_age = len(age)\n",
        "lenght_city = len(city)\n",
        "\n",
        "print('The lenght of the name is '+str(lenght_name)+' , that of the age is '+str(lenght_age)+' and the city is '+str(lenght_city)+' long.')\n"
      ],
      "metadata": {
        "colab": {
          "base_uri": "https://localhost:8080/",
          "height": 450
        },
        "id": "oNYLWsimD2oP",
        "outputId": "9f9d539e-a688-4020-9e29-dea2afcf3aed"
      },
      "execution_count": 21,
      "outputs": [
        {
          "output_type": "stream",
          "name": "stdout",
          "text": [
            "Insert your name?20 lore prato\n",
            "How old are you?lore\n",
            "Where do you live?prato\n",
            "invalid Age\n"
          ]
        },
        {
          "output_type": "error",
          "ename": "KeyboardInterrupt",
          "evalue": "ignored",
          "traceback": [
            "\u001b[0;31m---------------------------------------------------------------------------\u001b[0m",
            "\u001b[0;31mKeyboardInterrupt\u001b[0m                         Traceback (most recent call last)",
            "\u001b[0;32m<ipython-input-21-859e7a86b019>\u001b[0m in \u001b[0;36m<cell line: 1>\u001b[0;34m()\u001b[0m\n\u001b[1;32m      1\u001b[0m \u001b[0;32mwhile\u001b[0m \u001b[0;32mTrue\u001b[0m\u001b[0;34m:\u001b[0m\u001b[0;34m\u001b[0m\u001b[0;34m\u001b[0m\u001b[0m\n\u001b[0;32m----> 2\u001b[0;31m   \u001b[0mname\u001b[0m \u001b[0;34m=\u001b[0m \u001b[0minput\u001b[0m\u001b[0;34m(\u001b[0m\u001b[0;34m'Insert your name?'\u001b[0m\u001b[0;34m)\u001b[0m\u001b[0;34m\u001b[0m\u001b[0;34m\u001b[0m\u001b[0m\n\u001b[0m\u001b[1;32m      3\u001b[0m   \u001b[0mage\u001b[0m \u001b[0;34m=\u001b[0m \u001b[0minput\u001b[0m\u001b[0;34m(\u001b[0m\u001b[0;34m'How old are you?'\u001b[0m\u001b[0;34m)\u001b[0m\u001b[0;34m\u001b[0m\u001b[0;34m\u001b[0m\u001b[0m\n\u001b[1;32m      4\u001b[0m   \u001b[0mcity\u001b[0m \u001b[0;34m=\u001b[0m \u001b[0minput\u001b[0m\u001b[0;34m(\u001b[0m\u001b[0;34m'Where do you live?'\u001b[0m\u001b[0;34m)\u001b[0m\u001b[0;34m\u001b[0m\u001b[0;34m\u001b[0m\u001b[0m\n\u001b[1;32m      5\u001b[0m \u001b[0;34m\u001b[0m\u001b[0m\n",
            "\u001b[0;32m/usr/local/lib/python3.10/dist-packages/ipykernel/kernelbase.py\u001b[0m in \u001b[0;36mraw_input\u001b[0;34m(self, prompt)\u001b[0m\n\u001b[1;32m    849\u001b[0m                 \u001b[0;34m\"raw_input was called, but this frontend does not support input requests.\"\u001b[0m\u001b[0;34m\u001b[0m\u001b[0;34m\u001b[0m\u001b[0m\n\u001b[1;32m    850\u001b[0m             )\n\u001b[0;32m--> 851\u001b[0;31m         return self._input_request(str(prompt),\n\u001b[0m\u001b[1;32m    852\u001b[0m             \u001b[0mself\u001b[0m\u001b[0;34m.\u001b[0m\u001b[0m_parent_ident\u001b[0m\u001b[0;34m,\u001b[0m\u001b[0;34m\u001b[0m\u001b[0;34m\u001b[0m\u001b[0m\n\u001b[1;32m    853\u001b[0m             \u001b[0mself\u001b[0m\u001b[0;34m.\u001b[0m\u001b[0m_parent_header\u001b[0m\u001b[0;34m,\u001b[0m\u001b[0;34m\u001b[0m\u001b[0;34m\u001b[0m\u001b[0m\n",
            "\u001b[0;32m/usr/local/lib/python3.10/dist-packages/ipykernel/kernelbase.py\u001b[0m in \u001b[0;36m_input_request\u001b[0;34m(self, prompt, ident, parent, password)\u001b[0m\n\u001b[1;32m    893\u001b[0m             \u001b[0;32mexcept\u001b[0m \u001b[0mKeyboardInterrupt\u001b[0m\u001b[0;34m:\u001b[0m\u001b[0;34m\u001b[0m\u001b[0;34m\u001b[0m\u001b[0m\n\u001b[1;32m    894\u001b[0m                 \u001b[0;31m# re-raise KeyboardInterrupt, to truncate traceback\u001b[0m\u001b[0;34m\u001b[0m\u001b[0;34m\u001b[0m\u001b[0m\n\u001b[0;32m--> 895\u001b[0;31m                 \u001b[0;32mraise\u001b[0m \u001b[0mKeyboardInterrupt\u001b[0m\u001b[0;34m(\u001b[0m\u001b[0;34m\"Interrupted by user\"\u001b[0m\u001b[0;34m)\u001b[0m \u001b[0;32mfrom\u001b[0m \u001b[0;32mNone\u001b[0m\u001b[0;34m\u001b[0m\u001b[0;34m\u001b[0m\u001b[0m\n\u001b[0m\u001b[1;32m    896\u001b[0m             \u001b[0;32mexcept\u001b[0m \u001b[0mException\u001b[0m \u001b[0;32mas\u001b[0m \u001b[0me\u001b[0m\u001b[0;34m:\u001b[0m\u001b[0;34m\u001b[0m\u001b[0;34m\u001b[0m\u001b[0m\n\u001b[1;32m    897\u001b[0m                 \u001b[0mself\u001b[0m\u001b[0;34m.\u001b[0m\u001b[0mlog\u001b[0m\u001b[0;34m.\u001b[0m\u001b[0mwarning\u001b[0m\u001b[0;34m(\u001b[0m\u001b[0;34m\"Invalid Message:\"\u001b[0m\u001b[0;34m,\u001b[0m \u001b[0mexc_info\u001b[0m\u001b[0;34m=\u001b[0m\u001b[0;32mTrue\u001b[0m\u001b[0;34m)\u001b[0m\u001b[0;34m\u001b[0m\u001b[0;34m\u001b[0m\u001b[0m\n",
            "\u001b[0;31mKeyboardInterrupt\u001b[0m: Interrupted by user"
          ]
        }
      ]
    },
    {
      "cell_type": "markdown",
      "source": [
        "Create two variables \"first_name\" and \"last_name\" and combine them to form a full name string.\n",
        "___________________________________________________________________________\n",
        "Create a variable \"fav_language\" and assign a string value to it. Then, create a sentence that states your favorite programming language.\n",
        "___________________________________________________________________________\n",
        "Create a variable \"current_year\" and assign the current year as an integer value. Then, create another variable \"birth_year\" and assign a year of birth as an integer value.\n",
        "\n",
        "Calculate and print the age of the person.\n",
        "__________________________________________________________________________\n",
        "Create a variable \"sentence\" and assign a string value to it. Print the number of characters in the sentence."
      ],
      "metadata": {
        "id": "bs2NLhbewC_C"
      }
    },
    {
      "cell_type": "code",
      "source": [
        "#Create two variables \"first_name\" and \"last_name\" and combine them to form a full name string.\n",
        "name, surename = 'Marco', 'Biondo'\n",
        "\n",
        "full_name = name+' '+surename\n",
        "print(full_name)\n",
        "\n",
        "#Create a variable \"fav_language\" and assign a string value to it. Then, create a sentence that states your favorite programming language.\n",
        "fav_language = 'Python'\n",
        "sentence = f'My favourite programming language is {fav_language}.'\n",
        "print(sentence)\n",
        "\n",
        "#Create a variable \"current_year\" and assign the current year as an integer value. Then, create another variable \"birth_year\" and assign a year of birth as an integer value.\n",
        "\n",
        "from datetime import datetime\n",
        "current_year = datetime.now().year\n",
        "birth_year = 1994\n",
        "age = current_year-birth_year\n",
        "\n",
        "print(age)\n",
        "\n",
        "#Create a variable \"sentence\" and assign a string value to it. Print the number of characters in the sentence.\n",
        "sentence = f'I\\'m {age} years old'\n",
        "print(f\"The sentence: '{sentence}' has {len(sentence)} characters\")"
      ],
      "metadata": {
        "colab": {
          "base_uri": "https://localhost:8080/"
        },
        "id": "OdEn4QLXwAOc",
        "outputId": "de3fc28a-c9a1-45e8-a0d8-62ebe8d90175"
      },
      "execution_count": 17,
      "outputs": [
        {
          "output_type": "stream",
          "name": "stdout",
          "text": [
            "Marco Biondo\n",
            "My favourite programming language is Python.\n",
            "29\n",
            "The sentence: 'I'm 29 years old' has 16 characters\n"
          ]
        }
      ]
    }
  ]
}