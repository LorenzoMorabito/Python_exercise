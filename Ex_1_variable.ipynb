{
  "nbformat": 4,
  "nbformat_minor": 0,
  "metadata": {
    "colab": {
      "provenance": [],
      "authorship_tag": "ABX9TyPVs7jcif6lsc/C+iYnYkQN",
      "include_colab_link": true
    },
    "kernelspec": {
      "name": "python3",
      "display_name": "Python 3"
    },
    "language_info": {
      "name": "python"
    }
  },
  "cells": [
    {
      "cell_type": "markdown",
      "metadata": {
        "id": "view-in-github",
        "colab_type": "text"
      },
      "source": [
        "<a href=\"https://colab.research.google.com/github/LorenzoMorabito/Python_exercise/blob/master/Ex_1_variable.ipynb\" target=\"_parent\"><img src=\"https://colab.research.google.com/assets/colab-badge.svg\" alt=\"Open In Colab\"/></a>"
      ]
    },
    {
      "cell_type": "markdown",
      "source": [
        "Variable\n",
        "You have the variable a that is the sentence “Laura and tom went ON a long walk.” Apply the following changes:\n",
        "\n",
        "Lowercase the word “ON”\n",
        "Capitalize the name “tom”\n",
        "Uppercase the word “long”\n",
        "Change the letter “a” with “o” in the word “walk” using the appropriate python method.\n",
        "Now print the modified sentence.\n",
        "Use the appropriate python method to create separate strings out of each word in the new sentence."
      ],
      "metadata": {
        "id": "wGiTFBiDKOrv"
      }
    },
    {
      "cell_type": "code",
      "execution_count": null,
      "metadata": {
        "colab": {
          "base_uri": "https://localhost:8080/"
        },
        "id": "CR3zEoJbKGRM",
        "outputId": "9b6662c8-66ed-4e2e-a599-61ca22a17bc5"
      },
      "outputs": [
        {
          "output_type": "stream",
          "name": "stdout",
          "text": [
            "Laura and tom went on a long walk.\n"
          ]
        }
      ],
      "source": [
        "a = \"Laura and tom went ON a long walk.\"\n",
        "\n",
        "# changes lowercase the word \"ON\"\n",
        "b= a.replace('ON','on')\n",
        "print(b)"
      ]
    },
    {
      "cell_type": "code",
      "source": [
        "b='Laura and tom went on a long walk.'\n",
        "# Capitalize the name 'Tom'\n",
        "d= b.split()\n",
        "d[2] = d[2].capitalize()\n",
        "c=' '.join(d)\n",
        "\n",
        "print(c)"
      ],
      "metadata": {
        "colab": {
          "base_uri": "https://localhost:8080/"
        },
        "id": "zZBtc9qgA0o1",
        "outputId": "ce13937d-41f4-4f3c-b45b-6067bc815133"
      },
      "execution_count": null,
      "outputs": [
        {
          "output_type": "stream",
          "name": "stdout",
          "text": [
            "Laura and Tom went on a long walk.\n"
          ]
        }
      ]
    },
    {
      "cell_type": "code",
      "source": [
        "c = 'Laura and Tom went on a long walk.'\n",
        "\n",
        "# Uppercase the word 'long'\n",
        "d = c.split()\n",
        "d[-2] = d[-2].upper()\n",
        "c=' '.join(d)\n",
        "print(c)\n"
      ],
      "metadata": {
        "colab": {
          "base_uri": "https://localhost:8080/"
        },
        "id": "c69PY9K7BWMc",
        "outputId": "94dab34d-729f-4373-c3af-30d0f9f051a0"
      },
      "execution_count": null,
      "outputs": [
        {
          "output_type": "stream",
          "name": "stdout",
          "text": [
            "Laura and Tom went on a LONG walk.\n"
          ]
        }
      ]
    },
    {
      "cell_type": "code",
      "source": [
        "#Change the letter “a” with “o” in the word “walk”\n",
        "a= 'Laura and Tom went on a LONG walk.'\n",
        "c= a.split()\n",
        "c[-1] = c[-1].replace('a','o')\n",
        "c=' '.join(c)\n",
        "print(c)\n",
        "\n",
        "\n"
      ],
      "metadata": {
        "colab": {
          "base_uri": "https://localhost:8080/"
        },
        "id": "v5kJLROGKIk1",
        "outputId": "840eaa23-8339-4604-ae21-cfe1710465e7"
      },
      "execution_count": null,
      "outputs": [
        {
          "output_type": "stream",
          "name": "stdout",
          "text": [
            "Laura and Tom went on a LONG wolk.\n"
          ]
        }
      ]
    },
    {
      "cell_type": "code",
      "source": [
        "#create separate strings out of each word in the new sentence.\n",
        "a = 'Laura and Tom went on a LONG wolk.'\n",
        "b=a.split()\n",
        "print(b)"
      ],
      "metadata": {
        "colab": {
          "base_uri": "https://localhost:8080/"
        },
        "id": "2G1n-pAtPLyF",
        "outputId": "9d34304d-fda3-4c5a-cbc2-5e58ecbdf682"
      },
      "execution_count": null,
      "outputs": [
        {
          "output_type": "stream",
          "name": "stdout",
          "text": [
            "['Laura', 'and', 'Tom', 'went', 'on', 'a', 'LONG', 'wolk.']\n"
          ]
        }
      ]
    }
  ]
}