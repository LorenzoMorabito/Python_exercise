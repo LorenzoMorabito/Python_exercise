{
  "nbformat": 4,
  "nbformat_minor": 0,
  "metadata": {
    "colab": {
      "provenance": [],
      "authorship_tag": "ABX9TyPgecSEA7nZbpHgJ8AkTuFa",
      "include_colab_link": true
    },
    "kernelspec": {
      "name": "python3",
      "display_name": "Python 3"
    },
    "language_info": {
      "name": "python"
    }
  },
  "cells": [
    {
      "cell_type": "markdown",
      "metadata": {
        "id": "view-in-github",
        "colab_type": "text"
      },
      "source": [
        "<a href=\"https://colab.research.google.com/github/LorenzoMorabito/Python_exercise/blob/master/Ex_condition_5.ipynb\" target=\"_parent\"><img src=\"https://colab.research.google.com/assets/colab-badge.svg\" alt=\"Open In Colab\"/></a>"
      ]
    },
    {
      "cell_type": "markdown",
      "source": [
        "Create a variable called age and assign the value 20 to it.\n",
        "\n",
        "Then write an if statement that prints \"You are a teenager\" if the value of age is less than 18,\n",
        "\n",
        "and \"You are an adult\" if the value of age is equal to or greater than 18."
      ],
      "metadata": {
        "id": "hehWX3FKj7Yw"
      }
    },
    {
      "cell_type": "code",
      "execution_count": 9,
      "metadata": {
        "colab": {
          "base_uri": "https://localhost:8080/"
        },
        "id": "rmvBOQo4jMtB",
        "outputId": "10df3f92-826d-41c9-9803-1669e4ddaa53"
      },
      "outputs": [
        {
          "output_type": "stream",
          "name": "stdout",
          "text": [
            "How old are You?20\n",
            "You are an adult\n"
          ]
        }
      ],
      "source": [
        "\n",
        "\n",
        "#and \"You are an adult\" if the value of age is equal to or greater than 18.\n",
        "\n",
        "\n",
        "while True:\n",
        "  a = input('How old are You?')\n",
        "  if a.isdigit() and int(a):\n",
        "    age = int(a)\n",
        "    break\n",
        "  else:\n",
        "    print('enter a valid number')\n",
        "\n",
        "if age >= 18:\n",
        "  print(\"You are an adult\")   #Then write an if statement that prints \"You are a teenager\" if the value of age is less than 18,\n",
        "else:\n",
        "  print(\"You are a teenager\")   #Create a variable called age and assign the value 20 to it."
      ]
    },
    {
      "cell_type": "markdown",
      "source": [
        "Create two variables called name and city.\n",
        "\n",
        "Then write an if statement that prints \"You are from [city]\" if the value of name is equal to \"John\" or \"Jane\",\n",
        "\n",
        "and \"You are not from [city]\" if the value of name is anything else."
      ],
      "metadata": {
        "id": "3Y3knMfcqQjU"
      }
    },
    {
      "cell_type": "code",
      "source": [
        "\n",
        "\n",
        "#Create two variables called name and city.\n",
        "name = ['john','jane']\n",
        "city = 'Sidney'\n",
        "\n",
        "a = input(\"What's your name?\")\n",
        "b = a.lower()\n",
        "\n",
        "#Then write an if statement that prints\n",
        "if b in name:\n",
        "  print( 'Hello '+(b.capitalize())+' '+\"You are from\"+ city)\n",
        "else:\n",
        "  print(f'''Hello {b.capitalize()} You aren't from {city}''')\n",
        "\n",
        "\n"
      ],
      "metadata": {
        "colab": {
          "base_uri": "https://localhost:8080/"
        },
        "id": "vpl0o55eqcBw",
        "outputId": "74a8069b-ecc0-4481-f115-e599aa2a2be0"
      },
      "execution_count": 22,
      "outputs": [
        {
          "output_type": "stream",
          "name": "stdout",
          "text": [
            "What's your name?JohN\n",
            "Hello John You are fromSidney\n"
          ]
        }
      ]
    },
    {
      "cell_type": "markdown",
      "source": [
        "Create a variable called password and assign a value to it.\n",
        "\n",
        " Then write an if statement that checks if the length of password is less than 6 characters.\n",
        "\n",
        " If it is, then print \"The password is too short\".\n",
        "\n",
        "Otherwise, print \"The password is long enough\"."
      ],
      "metadata": {
        "id": "FiUhiqo-vD-r"
      }
    },
    {
      "cell_type": "code",
      "source": [
        "import random\n",
        "\n",
        "#Create a variable called password and assign a value to it.\n",
        "length = random.randint(1,10)\n",
        "psw = ''.join(str(random.randint(0,9)) for num in range(length))\n",
        "print(length)\n",
        "print(psw)\n",
        "\n",
        "#Then write an if statement that checks if the length of password\n",
        "if len(psw) < 6:\n",
        "  print(\"The password is too short\")\n",
        "else:\n",
        "  print(\"The password is long enough\")\n"
      ],
      "metadata": {
        "colab": {
          "base_uri": "https://localhost:8080/"
        },
        "id": "Kp0iWI_cvXjM",
        "outputId": "c2cd70fa-8d1c-41a6-c45b-d7dfc906521e"
      },
      "execution_count": 62,
      "outputs": [
        {
          "output_type": "stream",
          "name": "stdout",
          "text": [
            "8\n",
            "74073632\n",
            "The password is long enough\n"
          ]
        }
      ]
    },
    {
      "cell_type": "markdown",
      "source": [
        "Create a variable called number and assign a value to it.\n",
        "\n",
        "Then write an if statement that checks if number is positive, negative, or zero.\n",
        "\n",
        "If it is positive, print \"The number is positive\".\n",
        "\n",
        "If it is negative, print \"The number is negative\".\n",
        "\n",
        "If it is zero, print \"The number is zero\"."
      ],
      "metadata": {
        "id": "dHFU02sg9IWu"
      }
    },
    {
      "cell_type": "code",
      "source": [
        "import random\n",
        "num = random.randint(-10,10)\n",
        "print(num)\n",
        "\n",
        "\n",
        "if num == 0:\n",
        "  print(\"The number is zero\")\n",
        "elif num < 0:\n",
        "  print( \"The number is negative\")\n",
        "else:\n",
        "  print(\"The number is positive\")\n",
        "\n"
      ],
      "metadata": {
        "colab": {
          "base_uri": "https://localhost:8080/"
        },
        "id": "qb355fTT9qr8",
        "outputId": "3a981336-e4b7-4758-d41f-76eaa0c29a49"
      },
      "execution_count": 73,
      "outputs": [
        {
          "output_type": "stream",
          "name": "stdout",
          "text": [
            "-9\n",
            "The number is negative\n"
          ]
        }
      ]
    },
    {
      "cell_type": "markdown",
      "source": [
        "Create two variables called x and y.\n",
        "\n",
        "Then write an if statement that prints:\n",
        "\n",
        " \"x is greater than y\" if x is greater than y,\n",
        "\n",
        " and \"y is greater than x\" if y is greater than x.\n"
      ],
      "metadata": {
        "id": "4IvFTGtW9tkN"
      }
    },
    {
      "cell_type": "code",
      "source": [
        "import random\n",
        "\n",
        "x= random.randrange(0,10)\n",
        "y= random.randrange(0,10)\n",
        "\n",
        "print(f'x={x} y={y}')\n",
        "\n",
        "if x > y:\n",
        "  print('x is greater than y')\n",
        "elif x < y:\n",
        "  print(\"y is greater than x\")\n",
        "else:\n",
        "  print('x and y are egual')\n",
        "\n",
        "\n",
        "\n"
      ],
      "metadata": {
        "colab": {
          "base_uri": "https://localhost:8080/"
        },
        "id": "7Jy_Uh9o9t65",
        "outputId": "03bfb9c4-5346-46d8-93c9-8e67569d3c3f"
      },
      "execution_count": 81,
      "outputs": [
        {
          "output_type": "stream",
          "name": "stdout",
          "text": [
            "x=6 y=6\n",
            "x and y are egual\n"
          ]
        }
      ]
    },
    {
      "cell_type": "markdown",
      "source": [
        "Create two variables called a and b.\n",
        "\n",
        "Then write an if statement that prints:\n",
        "\n",
        "\"a is equal to b\" if a is equal to b, and \"a is not equal to"
      ],
      "metadata": {
        "id": "QNqXIF8x9uLW"
      }
    },
    {
      "cell_type": "code",
      "source": [
        "import random\n",
        "a = random.randrange(0,5)\n",
        "b = random.randrange(0,5)\n",
        "\n",
        "if a == b:\n",
        "  print(\"a is equal to b\")\n",
        "else:\n",
        "  print(\"a is not equal to b\")"
      ],
      "metadata": {
        "colab": {
          "base_uri": "https://localhost:8080/"
        },
        "id": "RN0dsQHVJivm",
        "outputId": "ce702d11-f6a3-4084-f151-bcd070f92d55"
      },
      "execution_count": 93,
      "outputs": [
        {
          "output_type": "stream",
          "name": "stdout",
          "text": [
            "a is not equal to b\n"
          ]
        }
      ]
    }
  ]
}