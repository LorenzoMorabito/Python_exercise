{
  "nbformat": 4,
  "nbformat_minor": 0,
  "metadata": {
    "colab": {
      "provenance": [],
      "authorship_tag": "ABX9TyM8XTc9qonugJKBN33jduLp",
      "include_colab_link": true
    },
    "kernelspec": {
      "name": "python3",
      "display_name": "Python 3"
    },
    "language_info": {
      "name": "python"
    }
  },
  "cells": [
    {
      "cell_type": "markdown",
      "metadata": {
        "id": "view-in-github",
        "colab_type": "text"
      },
      "source": [
        "<a href=\"https://colab.research.google.com/github/LorenzoMorabito/Python_exercise/blob/master/Exercise_Functions_1_%20modificato.ipynb\" target=\"_parent\"><img src=\"https://colab.research.google.com/assets/colab-badge.svg\" alt=\"Open In Colab\"/></a>"
      ]
    },
    {
      "cell_type": "markdown",
      "source": [
        "To create functions in python we start with def word and after it the name of function comes with without parameters\n",
        "example is here\n",
        "\n",
        "```\n",
        "def hello():\n",
        "    print(\"hello\")\n",
        "```\n",
        "Now you create a function named goodbye without parameters which prints good bye\n"
      ],
      "metadata": {
        "id": "QYv2b_mNDYQf"
      }
    },
    {
      "cell_type": "code",
      "execution_count": 1,
      "metadata": {
        "id": "E6ub0-XfBJWw"
      },
      "outputs": [],
      "source": [
        "def  goodbye():\n",
        "  return 'Goodbye'\n",
        ""
      ]
    },
    {
      "cell_type": "code",
      "source": [
        "goodbye()"
      ],
      "metadata": {
        "colab": {
          "base_uri": "https://localhost:8080/",
          "height": 35
        },
        "id": "zHZ8zgHOEbN9",
        "outputId": "ea9d37e6-93fc-418a-e337-5aa8b3658048"
      },
      "execution_count": 2,
      "outputs": [
        {
          "output_type": "execute_result",
          "data": {
            "text/plain": [
              "'Goodbye'"
            ],
            "application/vnd.google.colaboratory.intrinsic+json": {
              "type": "string"
            }
          },
          "metadata": {},
          "execution_count": 2
        }
      ]
    }
  ]
}