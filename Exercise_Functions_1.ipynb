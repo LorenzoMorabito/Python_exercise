{
  "nbformat": 4,
  "nbformat_minor": 0,
  "metadata": {
    "colab": {
      "provenance": [],
      "authorship_tag": "ABX9TyNWUoJrrJMe7TLCygNRoeGZ",
      "include_colab_link": true
    },
    "kernelspec": {
      "name": "python3",
      "display_name": "Python 3"
    },
    "language_info": {
      "name": "python"
    }
  },
  "cells": [
    {
      "cell_type": "markdown",
      "metadata": {
        "id": "view-in-github",
        "colab_type": "text"
      },
      "source": [
        "<a href=\"https://colab.research.google.com/github/LorenzoMorabito/Python_exercise/blob/master/Exercise_Functions_1.ipynb\" target=\"_parent\"><img src=\"https://colab.research.google.com/assets/colab-badge.svg\" alt=\"Open In Colab\"/></a>"
      ]
    },
    {
      "cell_type": "markdown",
      "source": [
        "To create functions in python we start with def word and after it the name of function comes with without parameters\n",
        "example is here\n",
        "\n",
        "```\n",
        "def hello():\n",
        "    print(\"hello\")\n",
        "```\n",
        "Now you create a function named goodbye without parameters which prints good bye\n"
      ],
      "metadata": {
        "id": "QYv2b_mNDYQf"
      }
    },
    {
      "cell_type": "code",
      "execution_count": 3,
      "metadata": {
        "id": "E6ub0-XfBJWw"
      },
      "outputs": [],
      "source": [
        "def  goodbye():\n",
        "    a = print('Goodbye')\n",
        "    return a"
      ]
    },
    {
      "cell_type": "code",
      "source": [
        "goodbye()"
      ],
      "metadata": {
        "colab": {
          "base_uri": "https://localhost:8080/"
        },
        "id": "zHZ8zgHOEbN9",
        "outputId": "b2aca75e-2fae-4add-8093-6b36dff58da9"
      },
      "execution_count": 4,
      "outputs": [
        {
          "output_type": "stream",
          "name": "stdout",
          "text": [
            "Goodbye\n"
          ]
        }
      ]
    }
  ]
}