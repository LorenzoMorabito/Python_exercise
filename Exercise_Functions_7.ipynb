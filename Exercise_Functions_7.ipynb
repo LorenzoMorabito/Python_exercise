{
  "nbformat": 4,
  "nbformat_minor": 0,
  "metadata": {
    "colab": {
      "provenance": [],
      "authorship_tag": "ABX9TyMzx5NNLPov/zZig3WjXeqG",
      "include_colab_link": true
    },
    "kernelspec": {
      "name": "python3",
      "display_name": "Python 3"
    },
    "language_info": {
      "name": "python"
    }
  },
  "cells": [
    {
      "cell_type": "markdown",
      "metadata": {
        "id": "view-in-github",
        "colab_type": "text"
      },
      "source": [
        "<a href=\"https://colab.research.google.com/github/LorenzoMorabito/Python_exercise/blob/master/Exercise_Functions_7.ipynb\" target=\"_parent\"><img src=\"https://colab.research.google.com/assets/colab-badge.svg\" alt=\"Open In Colab\"/></a>"
      ]
    },
    {
      "cell_type": "markdown",
      "source": [
        "Create a lambda function that returns 2nd power of given number if its even\n",
        "and run it on the given list\n",
        "then print the result to the screen"
      ],
      "metadata": {
        "id": "WV7-fLR0poZQ"
      }
    },
    {
      "cell_type": "code",
      "execution_count": 23,
      "metadata": {
        "id": "4sAyMjszpkAH"
      },
      "outputs": [],
      "source": [
        "# nome = lambda argomenti: espressione\n",
        "\n",
        "power = lambda n: n**2 if n % 2 == 0 else 'no'\n"
      ]
    },
    {
      "cell_type": "code",
      "source": [
        "#Creazione di una lista su cui iterare\n",
        "import random\n",
        "\n",
        "lst = [random.randint(1,10) for num in range(5)]"
      ],
      "metadata": {
        "id": "GmG1xClVvYgf"
      },
      "execution_count": null,
      "outputs": []
    },
    {
      "cell_type": "code",
      "source": [
        "lst"
      ],
      "metadata": {
        "colab": {
          "base_uri": "https://localhost:8080/"
        },
        "id": "5S5t9bnKtNKj",
        "outputId": "347c52ab-39c9-4eea-996b-a14b153ace72"
      },
      "execution_count": 24,
      "outputs": [
        {
          "output_type": "execute_result",
          "data": {
            "text/plain": [
              "[3, 4, 10, 4, 3]"
            ]
          },
          "metadata": {},
          "execution_count": 24
        }
      ]
    },
    {
      "cell_type": "code",
      "source": [
        "lst2 = []\n",
        "\n",
        "for num in lst:\n",
        "   lst2.append(power(num))"
      ],
      "metadata": {
        "id": "a5AxfnNYtPqT"
      },
      "execution_count": 33,
      "outputs": []
    },
    {
      "cell_type": "code",
      "source": [
        "lst2"
      ],
      "metadata": {
        "colab": {
          "base_uri": "https://localhost:8080/"
        },
        "id": "j_euPEGCy4N0",
        "outputId": "2772e528-809f-4fb4-94f7-27d3e5ee749a"
      },
      "execution_count": 34,
      "outputs": [
        {
          "output_type": "execute_result",
          "data": {
            "text/plain": [
              "['no', 16, 100, 16, 'no']"
            ]
          },
          "metadata": {},
          "execution_count": 34
        }
      ]
    },
    {
      "cell_type": "code",
      "source": [
        "results = list(map(power, lst))\n",
        "print(results)"
      ],
      "metadata": {
        "colab": {
          "base_uri": "https://localhost:8080/"
        },
        "id": "uF_um8UoulA4",
        "outputId": "15ed4251-9bcf-4530-882f-0b7e9a3bc500"
      },
      "execution_count": 32,
      "outputs": [
        {
          "output_type": "stream",
          "name": "stdout",
          "text": [
            "['no', 16, 100, 16, 'no']\n"
          ]
        }
      ]
    }
  ]
}