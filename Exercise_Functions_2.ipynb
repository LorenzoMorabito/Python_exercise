{
  "nbformat": 4,
  "nbformat_minor": 0,
  "metadata": {
    "colab": {
      "provenance": [],
      "authorship_tag": "ABX9TyOoRrnE174CVIx2R8WlzzOI",
      "include_colab_link": true
    },
    "kernelspec": {
      "name": "python3",
      "display_name": "Python 3"
    },
    "language_info": {
      "name": "python"
    }
  },
  "cells": [
    {
      "cell_type": "markdown",
      "metadata": {
        "id": "view-in-github",
        "colab_type": "text"
      },
      "source": [
        "<a href=\"https://colab.research.google.com/github/LorenzoMorabito/Python_exercise/blob/master/Exercise_Functions_2.ipynb\" target=\"_parent\"><img src=\"https://colab.research.google.com/assets/colab-badge.svg\" alt=\"Open In Colab\"/></a>"
      ]
    },
    {
      "cell_type": "markdown",
      "source": [
        "Inside the parenthesis variables can be used those variables as known as parameters of the function provides control inside the function example is here\n",
        "\n",
        "\n",
        "\n",
        "```\n",
        "def hello(name):\n",
        "    print(f\"hello {name}\")\n",
        "```\n",
        "\n",
        "\n",
        "Now you create a function named goodbye with a parameter name and say \"Good bye Adam\""
      ],
      "metadata": {
        "id": "4pvcBGF4GDmh"
      }
    },
    {
      "cell_type": "code",
      "execution_count": 10,
      "metadata": {
        "id": "3MCN8juRFsBx"
      },
      "outputs": [],
      "source": [
        "def  goodbye(name):\n",
        "  print(f'Good bye {name}')"
      ]
    },
    {
      "cell_type": "code",
      "source": [
        "name = str(input('Enter your name: '))\n",
        "goodbye(name)"
      ],
      "metadata": {
        "colab": {
          "base_uri": "https://localhost:8080/"
        },
        "id": "SfOLXWe-HH0M",
        "outputId": "a45447b4-c82f-46c3-a7e2-3b8c810bba17"
      },
      "execution_count": 12,
      "outputs": [
        {
          "output_type": "stream",
          "name": "stdout",
          "text": [
            "Enter your name: Lorenzo\n",
            "Good bye Lorenzo\n"
          ]
        }
      ]
    }
  ]
}