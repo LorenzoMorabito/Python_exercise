{
  "nbformat": 4,
  "nbformat_minor": 0,
  "metadata": {
    "colab": {
      "provenance": [],
      "authorship_tag": "ABX9TyMyIEn7aQ2Ad0B/EnQQkeFI",
      "include_colab_link": true
    },
    "kernelspec": {
      "name": "python3",
      "display_name": "Python 3"
    },
    "language_info": {
      "name": "python"
    }
  },
  "cells": [
    {
      "cell_type": "markdown",
      "metadata": {
        "id": "view-in-github",
        "colab_type": "text"
      },
      "source": [
        "<a href=\"https://colab.research.google.com/github/LorenzoMorabito/Python_exercise/blob/master/Exercise_Functions_3.ipynb\" target=\"_parent\"><img src=\"https://colab.research.google.com/assets/colab-badge.svg\" alt=\"Open In Colab\"/></a>"
      ]
    },
    {
      "cell_type": "markdown",
      "source": [
        "Let's see what is your user name on your computer\n",
        "to do that we are going to use os module which is a built in module in python\n",
        "and has many built in functions in it\n",
        "\n",
        "to be able to use os functions\n",
        "import os then call getlogin method of the module\n",
        "then assign the output to user variable and print the user"
      ],
      "metadata": {
        "id": "d_eOlNH9IEjj"
      }
    },
    {
      "cell_type": "code",
      "execution_count": null,
      "metadata": {
        "id": "jPdbwYGuH9TW"
      },
      "outputs": [],
      "source": [
        "# Import module Opperating Sistem (OS)\n",
        "import os\n",
        "#let's see mine user name with .getlogin() function\n",
        "user = os.getlogin()"
      ]
    }
  ]
}