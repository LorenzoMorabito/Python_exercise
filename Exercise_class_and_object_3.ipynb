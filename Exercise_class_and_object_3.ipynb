{
  "nbformat": 4,
  "nbformat_minor": 0,
  "metadata": {
    "colab": {
      "provenance": [],
      "authorship_tag": "ABX9TyP1naeEEbujv9VI0swaQcAk",
      "include_colab_link": true
    },
    "kernelspec": {
      "name": "python3",
      "display_name": "Python 3"
    },
    "language_info": {
      "name": "python"
    }
  },
  "cells": [
    {
      "cell_type": "markdown",
      "metadata": {
        "id": "view-in-github",
        "colab_type": "text"
      },
      "source": [
        "<a href=\"https://colab.research.google.com/github/LorenzoMorabito/Python_exercise/blob/master/Exercise_class_and_object_3.ipynb\" target=\"_parent\"><img src=\"https://colab.research.google.com/assets/colab-badge.svg\" alt=\"Open In Colab\"/></a>"
      ]
    },
    {
      "cell_type": "markdown",
      "source": [
        "Again let's keep talking on Animal class we have.\n",
        "\n",
        "with 3 methods we just reached the number of legs\n",
        "to prevent direct interacting with the class variables\n",
        "most of the other programming languages have encapsulation.\n",
        "But in python we don't have it instead we use _ prefix for it as convention\n",
        "it is also same for the methods\n",
        "\n",
        "_legs this shows us not to touch this variable its up to you if you want to change it you can but _ asks you politely not to do it.\n",
        "\n",
        "Change the number_of_legs to conventional private variable and call from another method"
      ],
      "metadata": {
        "id": "5-hbiLRe62u4"
      }
    },
    {
      "cell_type": "code",
      "source": [
        "class Animal:\n",
        "  def __init__(self, name, _n_legs):\n",
        "    self.name = name\n",
        "    #_legs this shows us not to touch this variable its up to you\n",
        "    # if you want to change it you can but _ asks you politely not to do it.\n",
        "    self._n_legs = _n_legs\n",
        "    print(f\"Animal object {name} was created\")\n",
        "\n",
        "  def run(self): #method\n",
        "    return 'Running Started'\n",
        "\n",
        "#Add a method to count the legs count_legs which prints the number of legs\n",
        "  def count_legs(self):\n",
        "    return print(self._n_legs)\n",
        "\n",
        "#Add a method to count the legs return_legs which returns the number of legs\n",
        "  def return_legs(self):\n",
        "    return self._n_legs\n",
        "\n",
        "cat = Animal('Tom', 4)\n",
        "cat.run()\n",
        "\n",
        "#print(cat.n_legs) #print number of legs directly from number_of_legs variable of the object\n",
        "cat.count_legs()\n",
        "cat.return_legs()"
      ],
      "metadata": {
        "colab": {
          "base_uri": "https://localhost:8080/"
        },
        "id": "lxjxu80o2lUo",
        "outputId": "54691025-4839-4084-c992-29fa47dda005"
      },
      "execution_count": 13,
      "outputs": [
        {
          "output_type": "stream",
          "name": "stdout",
          "text": [
            "Animal object Tom was created\n",
            "4\n"
          ]
        },
        {
          "output_type": "execute_result",
          "data": {
            "text/plain": [
              "4"
            ]
          },
          "metadata": {},
          "execution_count": 13
        }
      ]
    }
  ]
}