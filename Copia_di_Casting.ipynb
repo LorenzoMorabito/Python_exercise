{
  "nbformat": 4,
  "nbformat_minor": 0,
  "metadata": {
    "colab": {
      "provenance": [],
      "authorship_tag": "ABX9TyOGy35/5TClXrff60ousEjh",
      "include_colab_link": true
    },
    "kernelspec": {
      "name": "python3",
      "display_name": "Python 3"
    },
    "language_info": {
      "name": "python"
    }
  },
  "cells": [
    {
      "cell_type": "markdown",
      "metadata": {
        "id": "view-in-github",
        "colab_type": "text"
      },
      "source": [
        "<a href=\"https://colab.research.google.com/github/LorenzoMorabito/Python_exercise/blob/master/Copia_di_Casting.ipynb\" target=\"_parent\"><img src=\"https://colab.research.google.com/assets/colab-badge.svg\" alt=\"Open In Colab\"/></a>"
      ]
    },
    {
      "cell_type": "markdown",
      "source": [
        "Create a float variable float_num\n",
        "Use the int function to cast float_num to an integer and store the result in a new variable int_num\n",
        "Use the str function to cast int_num to a string and store the result in a new variable str_num\n",
        "Print the original float_num and the result of each casting to observe the changes in the data type."
      ],
      "metadata": {
        "id": "r-vERmLZ0ivC"
      }
    },
    {
      "cell_type": "code",
      "execution_count": null,
      "metadata": {
        "colab": {
          "base_uri": "https://localhost:8080/"
        },
        "id": "xcmbQy0u0hdn",
        "outputId": "46386a1f-e437-471e-8a05-e9ddf11a7359"
      },
      "outputs": [
        {
          "output_type": "stream",
          "name": "stdout",
          "text": [
            "1.5\n",
            "1 <class 'int'>\n",
            "1 <class 'str'>\n",
            "1.0 <class 'float'>\n",
            "1.0 <class 'float'>\n"
          ]
        }
      ],
      "source": [
        "a = 1.5\n",
        "print(a)\n",
        "\n",
        "#cast float_num to an integer\n",
        "b = int(a)\n",
        "print(b, type(b))\n",
        "\n",
        "#cast int_num to a string\n",
        "d = str(b)\n",
        "print(d, type(d))\n",
        "\n",
        "#cast int_num to a float\n",
        "c = float(b)\n",
        "print(c, type(c))\n",
        "\n",
        "#cast string to a float\n",
        "e = float(d)\n",
        "print(e, type(e))\n"
      ]
    }
  ]
}