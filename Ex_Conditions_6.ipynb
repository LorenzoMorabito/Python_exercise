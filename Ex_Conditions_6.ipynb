{
  "nbformat": 4,
  "nbformat_minor": 0,
  "metadata": {
    "colab": {
      "provenance": [],
      "authorship_tag": "ABX9TyMdYD0ch6o9qJMqVtmW8QrV",
      "include_colab_link": true
    },
    "kernelspec": {
      "name": "python3",
      "display_name": "Python 3"
    },
    "language_info": {
      "name": "python"
    }
  },
  "cells": [
    {
      "cell_type": "markdown",
      "metadata": {
        "id": "view-in-github",
        "colab_type": "text"
      },
      "source": [
        "<a href=\"https://colab.research.google.com/github/LorenzoMorabito/Python_exercise/blob/master/Ex_Conditions_6.ipynb\" target=\"_parent\"><img src=\"https://colab.research.google.com/assets/colab-badge.svg\" alt=\"Open In Colab\"/></a>"
      ]
    },
    {
      "cell_type": "markdown",
      "source": [
        "1. Write a python program to input two numbers from the user and check which number is greater.\n",
        "\n",
        "If the first number is greater, print \"First number is greater\".\n",
        "If the second number is greater, print \"Second number is greater\".\n",
        "If both are equal, print \"Both numbers are equal\".\n",
        "\n",
        "\n",
        "\n"
      ],
      "metadata": {
        "id": "npeHV9dVRtrZ"
      }
    },
    {
      "cell_type": "code",
      "source": [
        "first = int(input('enter the first number'))\n",
        "second = int(input('enter the second number'))\n",
        "\n",
        "if first == second:\n",
        "  print(\"Both numbers are equal\")\n",
        "elif max(first,second) == second:\n",
        "  print(\"Second number is greater\")\n",
        "else:\n",
        "  print(\"First number is greater\")"
      ],
      "metadata": {
        "colab": {
          "base_uri": "https://localhost:8080/"
        },
        "id": "xwu74Rgijgd_",
        "outputId": "4c1973c5-5516-4933-9588-f142e8e7f7cd"
      },
      "execution_count": null,
      "outputs": [
        {
          "output_type": "stream",
          "name": "stdout",
          "text": [
            "enter the first number3\n",
            "enter the second number3\n",
            "Both numbers are equal\n"
          ]
        }
      ]
    },
    {
      "cell_type": "markdown",
      "source": [
        "2. Write a python program to find the sum of three numbers and check if it is even or odd.\n",
        "\n",
        "If the sum is even, print \"The sum is even\".\n",
        "If the sum is odd, print \"The sum is odd\"."
      ],
      "metadata": {
        "id": "fb1UsQFho1Cz"
      }
    },
    {
      "cell_type": "code",
      "source": [
        "import random\n",
        "a = random.randrange(0,10)\n",
        "b = random.randrange(0,10)\n",
        "c = random.randrange(0,10)\n",
        "\n",
        "d = sum([a,b,c])\n",
        "print('a =',a,'b =',b,'c =',c,'somma =',d)\n",
        "\n",
        "if (d % 2) == 0:\n",
        "  print(\"The sum is even\")\n",
        "else:\n",
        "  print(\"The sum is odd\")\n",
        "\n",
        "print(d/2, d//2, d%2)"
      ],
      "metadata": {
        "colab": {
          "base_uri": "https://localhost:8080/"
        },
        "id": "HqUawibKo1Ms",
        "outputId": "cbdb9818-14d4-4e82-e2b6-80b15d7406f0"
      },
      "execution_count": null,
      "outputs": [
        {
          "output_type": "stream",
          "name": "stdout",
          "text": [
            "a = 9 b = 7 c = 8 somma = 24\n",
            "The sum is even\n",
            "12.0 12 0\n"
          ]
        }
      ]
    },
    {
      "cell_type": "markdown",
      "source": [
        "3.   Write a python program to check if a year is a leap year or not.\n",
        "If the year is a leap year, print \"The year is a leap year\".\n",
        "If the year is not a leap year, print \"The year is not a leap year\"."
      ],
      "metadata": {
        "id": "d4KREFH2tmHA"
      }
    },
    {
      "cell_type": "code",
      "source": [
        "import calendar\n",
        "\n",
        "year = int(input('Enter the Year'))\n",
        "\n",
        "if (year % 100 != 0) or (year % 100 != 0) and (year % 4 == 0):\n",
        "  print(\"The year is a leap year\")\n",
        "else:\n",
        "  print(\"The year is not a leap year\")\n",
        "\n",
        "\n",
        "if calendar.isleap(year)  == True:\n",
        "    print(\"The year is a leap year\")\n",
        "else:\n",
        "    print(\"The year is not a leap year\")"
      ],
      "metadata": {
        "id": "YXZN6-B7tmXs",
        "colab": {
          "base_uri": "https://localhost:8080/"
        },
        "outputId": "af80d2d2-1d1c-4c12-a715-749626ddb53c"
      },
      "execution_count": 54,
      "outputs": [
        {
          "output_type": "stream",
          "name": "stdout",
          "text": [
            "Enter the Year2018\n",
            "The year is a leap year\n",
            "The year is not a leap year\n"
          ]
        }
      ]
    }
  ]
}