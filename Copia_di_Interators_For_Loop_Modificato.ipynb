{
  "nbformat": 4,
  "nbformat_minor": 0,
  "metadata": {
    "colab": {
      "provenance": [],
      "authorship_tag": "ABX9TyPZi+CZwriHLmX0zUfgMdXi",
      "include_colab_link": true
    },
    "kernelspec": {
      "name": "python3",
      "display_name": "Python 3"
    },
    "language_info": {
      "name": "python"
    }
  },
  "cells": [
    {
      "cell_type": "markdown",
      "metadata": {
        "id": "view-in-github",
        "colab_type": "text"
      },
      "source": [
        "<a href=\"https://colab.research.google.com/github/LorenzoMorabito/Python_exercise/blob/master/Copia_di_Interators_For_Loop_Modificato.ipynb\" target=\"_parent\"><img src=\"https://colab.research.google.com/assets/colab-badge.svg\" alt=\"Open In Colab\"/></a>"
      ]
    },
    {
      "cell_type": "markdown",
      "source": [
        "Create\n",
        "\n",
        "*\n",
        "\n",
        "\n",
        "'***'\n",
        "\n",
        "\n",
        "'*****'\n",
        "\n",
        "\n",
        "this shape with print, for loop, if and continue statements"
      ],
      "metadata": {
        "id": "TCLvNQs51v0C"
      }
    },
    {
      "cell_type": "code",
      "execution_count": null,
      "metadata": {
        "colab": {
          "base_uri": "https://localhost:8080/"
        },
        "id": "HjpAVd9S1MM1",
        "outputId": "111de4d3-a750-4912-9f11-1f75d57efb83"
      },
      "outputs": [
        {
          "output_type": "stream",
          "name": "stdout",
          "text": [
            "*\n",
            "***\n",
            "*****\n"
          ]
        }
      ],
      "source": [
        "for i in range(1,6):\n",
        "  if i %2 == 0:\n",
        "    continue\n",
        "  else:\n",
        "    print(i*'*')"
      ]
    },
    {
      "cell_type": "code",
      "source": [
        "for i in range(1,6,2):\n",
        "  print('*'*i )"
      ],
      "metadata": {
        "id": "esn5ICEg4jb4",
        "outputId": "8f890ef8-f99d-4916-f8ef-6b78813eee8a",
        "colab": {
          "base_uri": "https://localhost:8080/"
        }
      },
      "execution_count": null,
      "outputs": [
        {
          "output_type": "stream",
          "name": "stdout",
          "text": [
            "*\n",
            "***\n",
            "*****\n"
          ]
        }
      ]
    }
  ]
}