{
  "nbformat": 4,
  "nbformat_minor": 0,
  "metadata": {
    "colab": {
      "provenance": [],
      "authorship_tag": "ABX9TyNBlQ1hqExBifk3qiOrvpxw",
      "include_colab_link": true
    },
    "kernelspec": {
      "name": "python3",
      "display_name": "Python 3"
    },
    "language_info": {
      "name": "python"
    }
  },
  "cells": [
    {
      "cell_type": "markdown",
      "metadata": {
        "id": "view-in-github",
        "colab_type": "text"
      },
      "source": [
        "<a href=\"https://colab.research.google.com/github/LorenzoMorabito/Python_exercise/blob/master/Iterators_For_Loop_3.ipynb\" target=\"_parent\"><img src=\"https://colab.research.google.com/assets/colab-badge.svg\" alt=\"Open In Colab\"/></a>"
      ]
    },
    {
      "cell_type": "markdown",
      "source": [
        "Iterate each elements of list1,tuple1,set1 and print them out"
      ],
      "metadata": {
        "id": "1OdCVW30-HQ4"
      }
    },
    {
      "cell_type": "code",
      "execution_count": 18,
      "metadata": {
        "id": "xiguArmX-GxR"
      },
      "outputs": [],
      "source": [
        "list1 = [\"lion\", \"monkey\", \"dog\",\"fish\"]\n",
        "tuple1 = (\"lion\", \"monkey\", \"dog\",\"fish\")\n",
        "set1 = {\"lion\", \"monkey\", \"dog\",\"fish\"}\n",
        "dict1 = {\"lion\":\"land\",\n",
        "         \"monkey\":\"land\",\n",
        "         \"dog\":\"land\",\n",
        "         \"fish\":\"water\"}"
      ]
    },
    {
      "cell_type": "code",
      "source": [
        "print(\"\\nElement of 'List1'\")\n",
        "for animals in list1:\n",
        "  print(animals)\n",
        "\n",
        "\n",
        "print(\"\\nElement of 'Tuple1'\")\n",
        "for animals in tuple1:\n",
        "  print(animals)\n",
        "\n",
        "print(\"\\nElement of 'Set1'\")\n",
        "for animals in set1:\n",
        "  print(animals)"
      ],
      "metadata": {
        "id": "JRcZhgtX_lqb"
      },
      "execution_count": null,
      "outputs": []
    },
    {
      "cell_type": "markdown",
      "source": [
        "For the dict1 iterate all elements but only print the ones who are living on land in the form of x lives in y"
      ],
      "metadata": {
        "id": "i0WFRTIQ-c5v"
      }
    },
    {
      "cell_type": "code",
      "source": [
        "for key, value in dict1.items():\n",
        "  if value == 'land':\n",
        "    print(key +' lives in '+ value)"
      ],
      "metadata": {
        "colab": {
          "base_uri": "https://localhost:8080/"
        },
        "id": "FDIOEpsR-eGn",
        "outputId": "bfe1cb59-3e3d-4d63-f8a4-d411d29eb431"
      },
      "execution_count": 46,
      "outputs": [
        {
          "output_type": "stream",
          "name": "stdout",
          "text": [
            "lion lives in land\n",
            "monkey lives in land\n",
            "dog lives in land\n"
          ]
        }
      ]
    },
    {
      "cell_type": "markdown",
      "source": [],
      "metadata": {
        "id": "l2Cwfg-pCKKG"
      }
    }
  ]
}