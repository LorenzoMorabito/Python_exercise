{
  "nbformat": 4,
  "nbformat_minor": 0,
  "metadata": {
    "colab": {
      "provenance": [],
      "authorship_tag": "ABX9TyM+88raCpNpkhxNV+ej2avY",
      "include_colab_link": true
    },
    "kernelspec": {
      "name": "python3",
      "display_name": "Python 3"
    },
    "language_info": {
      "name": "python"
    }
  },
  "cells": [
    {
      "cell_type": "markdown",
      "metadata": {
        "id": "view-in-github",
        "colab_type": "text"
      },
      "source": [
        "<a href=\"https://colab.research.google.com/github/LorenzoMorabito/Python_exercise/blob/master/Understanding_data_types.ipynb\" target=\"_parent\"><img src=\"https://colab.research.google.com/assets/colab-badge.svg\" alt=\"Open In Colab\"/></a>"
      ]
    },
    {
      "cell_type": "markdown",
      "source": [
        "Create variables of different data types (integer, float, string, and boolean)\n",
        "Use the type function to print the type of each variable\n",
        "Observe how the data type affects the output of certain operations, for example: • Adding two integers • Concatenating a string with a float • Comparing a string with a boolean"
      ],
      "metadata": {
        "id": "z4yH9SHGsVW7"
      }
    },
    {
      "cell_type": "code",
      "execution_count": 8,
      "metadata": {
        "colab": {
          "base_uri": "https://localhost:8080/"
        },
        "id": "67J6uofSsLhi",
        "outputId": "f849e7d1-4936-4033-e4d3-e60c73d34e93"
      },
      "outputs": [
        {
          "output_type": "stream",
          "name": "stdout",
          "text": [
            "<class 'int'> <class 'float'> <class 'str'> <class 'bool'>\n",
            "c1.5 <class 'str'>\n",
            "False\n"
          ]
        }
      ],
      "source": [
        "a,b,c,d,=1,1.5,'a',False\n",
        "print(type(a),type(b),type(c),type(d))\n",
        "\n",
        "e=f'c{b}'\n",
        "print(e, type(e))\n",
        "\n",
        "f='false'\n",
        "\n",
        "\n",
        "print(f == d)\n"
      ]
    }
  ]
}