{
  "nbformat": 4,
  "nbformat_minor": 0,
  "metadata": {
    "colab": {
      "provenance": [],
      "authorship_tag": "ABX9TyPJdgTIhcrEGu5vJfe7cuCl",
      "include_colab_link": true
    },
    "kernelspec": {
      "name": "python3",
      "display_name": "Python 3"
    },
    "language_info": {
      "name": "python"
    }
  },
  "cells": [
    {
      "cell_type": "markdown",
      "metadata": {
        "id": "view-in-github",
        "colab_type": "text"
      },
      "source": [
        "<a href=\"https://colab.research.google.com/github/LorenzoMorabito/Python_exercise/blob/master/Exercise_Functions_4.ipynb\" target=\"_parent\"><img src=\"https://colab.research.google.com/assets/colab-badge.svg\" alt=\"Open In Colab\"/></a>"
      ]
    },
    {
      "cell_type": "markdown",
      "source": [
        "# Now create a function for John Doe and his family that greets every one in the family.\n",
        "Since it will usually John Doe the name and surname parameter must be defaulted\n",
        "and when someone else comes it has to greet the new comer with name surname parameters which were overwritten. Make it possible.\n",
        "The function have to print \"Hello John Doe\" where John and Doe is parametric\n",
        "Greet each our John first then the people in the list with for loop and the function\n",
        "What you have to use\n",
        "\n",
        "* for loop\n",
        "* function\n",
        "* string operation\n",
        "* list index\n",
        "*\n",
        "\n",
        "Output format\n",
        "\n",
        "\n",
        "\n",
        "Hello John Doe!\n",
        "\n",
        "\n",
        "Hello Tristram Mcbride!\n",
        "\n",
        "\n",
        "Hello Baldwin Preston!\n",
        "\n",
        "\n",
        "Hello Wally Collins!"
      ],
      "metadata": {
        "id": "DWyEvOrEKxr3"
      }
    },
    {
      "cell_type": "code",
      "execution_count": 20,
      "metadata": {
        "colab": {
          "base_uri": "https://localhost:8080/"
        },
        "id": "Y9afdTG6KsjN",
        "outputId": "5b68b588-07c8-4e59-ec73-afedd4fcce48"
      },
      "outputs": [
        {
          "name": "stdout",
          "output_type": "stream",
          "text": [
            "Quanti siete?3 \n",
            "Name?: lore \n",
            "Surename?: mora\n",
            "Name?: enri\n",
            "Surename?: ugo\n",
            "Name?: cecchi\n",
            "Surename?: matte\n"
          ]
        }
      ],
      "source": [
        "#Creo due liste per la memorizzazione dei dati\n",
        "name = []\n",
        "surename = []\n",
        "#Chiedo il numero di persone per stabilire il numero di terazioni\n",
        "num = int(input('Quanti siete?'))\n",
        "# Acquisizione dei dati\n",
        "i = 0\n",
        "while i <= (num - 1):\n",
        " name.append(input('Name?: '))\n",
        " surename.append(input('Surename?: '))\n",
        " i += 1\n",
        "\n",
        "\n"
      ]
    },
    {
      "cell_type": "code",
      "source": [
        "#definisco la mia funzione\n",
        "def family(name, surename, index):\n",
        "  print(f'Hello {name[index]} {surename[index]}')"
      ],
      "metadata": {
        "id": "pN9JuZqGRQWJ"
      },
      "execution_count": 21,
      "outputs": []
    },
    {
      "cell_type": "code",
      "source": [
        "\n",
        "index = 0\n",
        "while index < (len(name)) or index < (len(surename)):\n",
        "  family(name, surename, index)\n",
        "  index += 1"
      ],
      "metadata": {
        "colab": {
          "base_uri": "https://localhost:8080/"
        },
        "id": "K3-a6lhjRgpg",
        "outputId": "15009d61-999d-412e-b976-34160fd77f87"
      },
      "execution_count": 34,
      "outputs": [
        {
          "output_type": "stream",
          "name": "stdout",
          "text": [
            "Hello lore  mora\n",
            "Hello enri ugo\n",
            "Hello cecchi matte\n"
          ]
        }
      ]
    },
    {
      "cell_type": "code",
      "source": [
        "for numero in range(len(name)):\n",
        "  family(name, surename, numero)"
      ],
      "metadata": {
        "colab": {
          "base_uri": "https://localhost:8080/"
        },
        "id": "mpNbGOGLToow",
        "outputId": "6ab6cb7d-9090-4608-e7dd-b942aea3035b"
      },
      "execution_count": 29,
      "outputs": [
        {
          "output_type": "stream",
          "name": "stdout",
          "text": [
            "Hello lore  mora\n",
            "Hello enri ugo\n",
            "Hello cecchi matte\n"
          ]
        }
      ]
    }
  ]
}