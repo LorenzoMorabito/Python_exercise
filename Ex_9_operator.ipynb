{
  "nbformat": 4,
  "nbformat_minor": 0,
  "metadata": {
    "colab": {
      "provenance": [],
      "authorship_tag": "ABX9TyMyX0VP9lsabHsUZLx03KEI",
      "include_colab_link": true
    },
    "kernelspec": {
      "name": "python3",
      "display_name": "Python 3"
    },
    "language_info": {
      "name": "python"
    }
  },
  "cells": [
    {
      "cell_type": "markdown",
      "metadata": {
        "id": "view-in-github",
        "colab_type": "text"
      },
      "source": [
        "<a href=\"https://colab.research.google.com/github/LorenzoMorabito/Python_exercise/blob/master/Ex_9_operator.ipynb\" target=\"_parent\"><img src=\"https://colab.research.google.com/assets/colab-badge.svg\" alt=\"Open In Colab\"/></a>"
      ]
    },
    {
      "cell_type": "markdown",
      "source": [
        "Given two variables a = 3 and b = 4, calculate the integer of dividing b/a.\n",
        "Given two variables a = 3 and b = 4, calculate the reminder of and integer from dividing b/a.\n",
        "Given a list numbers = [3, 5, 7, 9, 11], calculate and print the sum of all elements in the list.\n",
        "Given a list grades = [83, 85, 72, 63, 95], calculate and print the average grade.\n",
        "Given a list prices = [5, 10, 15, 20, 25], calculate and print the highest and lowest price."
      ],
      "metadata": {
        "id": "BPQ7Qxu6Cnkd"
      }
    },
    {
      "cell_type": "code",
      "execution_count": 9,
      "metadata": {
        "colab": {
          "base_uri": "https://localhost:8080/"
        },
        "id": "pZBCqPWbCnGh",
        "outputId": "ba9706cf-5cd5-4a35-ad79-73f91607354f"
      },
      "outputs": [
        {
          "output_type": "stream",
          "name": "stdout",
          "text": [
            "0\n",
            "Reminder: 1 Integer: 1\n",
            "35\n",
            "79.6 79.6\n",
            "Highest price: 25 Lowest price: 5\n"
          ]
        }
      ],
      "source": [
        "#calculate the integer of dividing b/a.\n",
        "a,b=3,4\n",
        "print(a//b)\n",
        "\n",
        "#calculate the reminder of and integer from dividing b/a.\n",
        "print(f'Reminder: {b%a} Integer: {b//a}')\n",
        "\n",
        "#calculate and print the sum of all elements in the list.\n",
        "numbers = [3, 5, 7, 9, 11]\n",
        "print(sum(numbers))\n",
        "\n",
        "#calculate and print the average grade.\n",
        "import statistics\n",
        "grades = [83, 85, 72, 63, 95]\n",
        "\n",
        "avg = statistics.mean(grades)\n",
        "\n",
        "avg1 = sum(grades)/len(grades)\n",
        "\n",
        "print(avg, avg1)\n",
        "\n",
        "#calculate and print the highest and lowest price.\n",
        "prices = [5, 10, 15, 20, 25]\n",
        "print(f'Highest price: {max(prices)} Lowest price: {min(prices)}')"
      ]
    }
  ]
}