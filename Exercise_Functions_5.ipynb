{
  "nbformat": 4,
  "nbformat_minor": 0,
  "metadata": {
    "colab": {
      "provenance": [],
      "authorship_tag": "ABX9TyNIhhycFGT1EX+/o7dB7y40",
      "include_colab_link": true
    },
    "kernelspec": {
      "name": "python3",
      "display_name": "Python 3"
    },
    "language_info": {
      "name": "python"
    }
  },
  "cells": [
    {
      "cell_type": "markdown",
      "metadata": {
        "id": "view-in-github",
        "colab_type": "text"
      },
      "source": [
        "<a href=\"https://colab.research.google.com/github/LorenzoMorabito/Python_exercise/blob/master/Exercise_Functions_5.ipynb\" target=\"_parent\"><img src=\"https://colab.research.google.com/assets/colab-badge.svg\" alt=\"Open In Colab\"/></a>"
      ]
    },
    {
      "cell_type": "markdown",
      "source": [
        "1. Import random function\n",
        "2. Create a function random_list_summer\n",
        "3. creates n elemented list with min value = -100 max value = 100\n",
        "4. it has to print the list first\n",
        "5. sum all the elements of it default element number is 15\n",
        "\n",
        "\n",
        "Don't forget to call the function\n",
        "for some features and functions you might have to search on the internet do it don't lose your courage"
      ],
      "metadata": {
        "id": "sqUn2CqHXVij"
      }
    },
    {
      "cell_type": "code",
      "execution_count": 3,
      "metadata": {
        "id": "sW6h4x_yXQFm"
      },
      "outputs": [],
      "source": [
        "#import random\n",
        "import random\n",
        "\n",
        "lst = [random.randint(-100, 100) for num in range(15)]"
      ]
    },
    {
      "cell_type": "code",
      "source": [
        "#print the list first\n",
        "lst"
      ],
      "metadata": {
        "colab": {
          "base_uri": "https://localhost:8080/"
        },
        "id": "IH8lYlUbZGNu",
        "outputId": "3245fc94-33b5-4079-9340-beab63465676"
      },
      "execution_count": 4,
      "outputs": [
        {
          "output_type": "execute_result",
          "data": {
            "text/plain": [
              "[-74, -1, -10, 72, -44, -59, -48, -63, 43, -8, -76, 79, 51, 51, -76]"
            ]
          },
          "metadata": {},
          "execution_count": 4
        }
      ]
    },
    {
      "cell_type": "code",
      "source": [
        "somma = sum(a for a in lst)"
      ],
      "metadata": {
        "id": "Y-oiThJ8ZTKj"
      },
      "execution_count": 10,
      "outputs": []
    },
    {
      "cell_type": "code",
      "source": [
        "somma"
      ],
      "metadata": {
        "colab": {
          "base_uri": "https://localhost:8080/"
        },
        "id": "FZ80Q0vFZyCP",
        "outputId": "9de8e10c-cca1-4c7f-bd7b-23fbe8cfbc6f"
      },
      "execution_count": 8,
      "outputs": [
        {
          "output_type": "execute_result",
          "data": {
            "text/plain": [
              "-163"
            ]
          },
          "metadata": {},
          "execution_count": 8
        }
      ]
    }
  ]
}