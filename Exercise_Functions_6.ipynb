{
  "nbformat": 4,
  "nbformat_minor": 0,
  "metadata": {
    "colab": {
      "provenance": [],
      "authorship_tag": "ABX9TyNhIq76EVhdJIo7vbUOwoBO",
      "include_colab_link": true
    },
    "kernelspec": {
      "name": "python3",
      "display_name": "Python 3"
    },
    "language_info": {
      "name": "python"
    }
  },
  "cells": [
    {
      "cell_type": "markdown",
      "metadata": {
        "id": "view-in-github",
        "colab_type": "text"
      },
      "source": [
        "<a href=\"https://colab.research.google.com/github/LorenzoMorabito/Python_exercise/blob/master/Exercise_Functions_6.ipynb\" target=\"_parent\"><img src=\"https://colab.research.google.com/assets/colab-badge.svg\" alt=\"Open In Colab\"/></a>"
      ]
    },
    {
      "cell_type": "markdown",
      "source": [
        "Implement Fibonacci sequence as recursive function and print first 5 elements."
      ],
      "metadata": {
        "id": "xsiiqK2Ld_x2"
      }
    },
    {
      "cell_type": "code",
      "execution_count": 26,
      "metadata": {
        "id": "VsNpu9gXd20w"
      },
      "outputs": [],
      "source": [
        "def fibonacci(numero):\n",
        "  fibo = [0, 1]\n",
        "  i = 0\n",
        "  while i < (numero - 2):\n",
        "    fibo.append(fibo[-2]+fibo[-1])\n",
        "    i += 1\n",
        "  return fibo"
      ]
    },
    {
      "cell_type": "code",
      "source": [
        "def fibonacci1(numero):\n",
        "  fibo = [0, 1]\n",
        "  for num in range(numero - 2):\n",
        "    fibo.append(fibo[-2] + fibo[-1])\n",
        "  return fibo"
      ],
      "metadata": {
        "id": "OrZxZUIZepUx"
      },
      "execution_count": 37,
      "outputs": []
    },
    {
      "cell_type": "code",
      "source": [
        "volte = 5\n",
        "fibonacci1(volte)"
      ],
      "metadata": {
        "colab": {
          "base_uri": "https://localhost:8080/"
        },
        "id": "hfdV7MYYkcRY",
        "outputId": "d13a2077-3d8a-44d9-81d5-4f59fa6c7f4d"
      },
      "execution_count": 38,
      "outputs": [
        {
          "output_type": "execute_result",
          "data": {
            "text/plain": [
              "[0, 1, 1, 2, 3]"
            ]
          },
          "metadata": {},
          "execution_count": 38
        }
      ]
    },
    {
      "cell_type": "code",
      "source": [
        "volte = 5\n",
        "fibonacci(volte)"
      ],
      "metadata": {
        "colab": {
          "base_uri": "https://localhost:8080/"
        },
        "id": "zFAbTGlPo0el",
        "outputId": "4c12a0c0-300b-4156-f354-7d31cbf61734"
      },
      "execution_count": 39,
      "outputs": [
        {
          "output_type": "execute_result",
          "data": {
            "text/plain": [
              "[0, 1, 1, 2, 3]"
            ]
          },
          "metadata": {},
          "execution_count": 39
        }
      ]
    }
  ]
}