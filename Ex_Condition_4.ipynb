{
  "nbformat": 4,
  "nbformat_minor": 0,
  "metadata": {
    "colab": {
      "provenance": [],
      "authorship_tag": "ABX9TyNSwn2TP3ckQEUfQWfICMFa",
      "include_colab_link": true
    },
    "kernelspec": {
      "name": "python3",
      "display_name": "Python 3"
    },
    "language_info": {
      "name": "python"
    }
  },
  "cells": [
    {
      "cell_type": "markdown",
      "metadata": {
        "id": "view-in-github",
        "colab_type": "text"
      },
      "source": [
        "<a href=\"https://colab.research.google.com/github/LorenzoMorabito/Python_exercise/blob/master/Ex_Condition_4.ipynb\" target=\"_parent\"><img src=\"https://colab.research.google.com/assets/colab-badge.svg\" alt=\"Open In Colab\"/></a>"
      ]
    },
    {
      "cell_type": "markdown",
      "source": [
        "\n",
        "\n",
        "if abs(number1) > abs(number2):\n",
        "\n",
        "\n",
        "Compare those 2 numbers' absolute values and write X's absolute value greater than Y's absolute value Use abs function to do that\n",
        "eg.\n",
        "abs(-5) -> 5\n",
        "abs function makes all numbers positive\n"
      ],
      "metadata": {
        "id": "GMhzWIxIaENI"
      }
    },
    {
      "cell_type": "code",
      "execution_count": null,
      "metadata": {
        "colab": {
          "base_uri": "https://localhost:8080/"
        },
        "id": "7tiAAXjDaCiN",
        "outputId": "41385490-6a00-4d44-b784-4d5a2a5add9a"
      },
      "outputs": [
        {
          "output_type": "stream",
          "name": "stdout",
          "text": [
            "x = 67\n",
            "y = -8\n",
            "x\n"
          ]
        }
      ],
      "source": [
        "import random\n",
        "\n",
        "number1 = random.randint(-100,100)\n",
        "number2 = random.randint(-100,100)\n",
        "\n",
        "\n",
        "if abs(number1) > abs(number2):\n",
        "  print('x')\n",
        "elif abs(number1) < abs(number2):\n",
        "  print('y')\n",
        "else:\n",
        "  print('x = y')"
      ]
    }
  ]
}