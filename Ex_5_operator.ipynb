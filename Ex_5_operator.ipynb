{
  "nbformat": 4,
  "nbformat_minor": 0,
  "metadata": {
    "colab": {
      "provenance": [],
      "authorship_tag": "ABX9TyMN3HKteeTSSjfVX9pq4wB6",
      "include_colab_link": true
    },
    "kernelspec": {
      "name": "python3",
      "display_name": "Python 3"
    },
    "language_info": {
      "name": "python"
    }
  },
  "cells": [
    {
      "cell_type": "markdown",
      "metadata": {
        "id": "view-in-github",
        "colab_type": "text"
      },
      "source": [
        "<a href=\"https://colab.research.google.com/github/LorenzoMorabito/Python_exercise/blob/master/Ex_5_operator.ipynb\" target=\"_parent\"><img src=\"https://colab.research.google.com/assets/colab-badge.svg\" alt=\"Open In Colab\"/></a>"
      ]
    },
    {
      "cell_type": "markdown",
      "source": [
        "- Initialize and print the `sentence` variable using the appropriate logical operators"
      ],
      "metadata": {
        "id": "0SuJKvsqaI7U"
      }
    },
    {
      "cell_type": "code",
      "execution_count": 2,
      "metadata": {
        "colab": {
          "base_uri": "https://localhost:8080/"
        },
        "id": "jV27OGsHZZ3a",
        "outputId": "eaf59dd6-63ae-41a1-dde6-bb48507580a8"
      },
      "outputs": [
        {
          "output_type": "stream",
          "name": "stdout",
          "text": [
            "Mario Rossi\n"
          ]
        }
      ],
      "source": [
        "firstName = \"Mario\"\n",
        "lastName = \"Rossi\"\n",
        "\n",
        "sentence = firstName+' '+lastName\n",
        "\n",
        "print(sentence) # Should print \"Mario Rossi\""
      ]
    }
  ]
}