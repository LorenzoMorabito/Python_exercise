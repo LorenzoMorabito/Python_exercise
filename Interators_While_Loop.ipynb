{
  "nbformat": 4,
  "nbformat_minor": 0,
  "metadata": {
    "colab": {
      "provenance": [],
      "authorship_tag": "ABX9TyPxWO14J2b10Ikm6rPQftLD",
      "include_colab_link": true
    },
    "kernelspec": {
      "name": "python3",
      "display_name": "Python 3"
    },
    "language_info": {
      "name": "python"
    }
  },
  "cells": [
    {
      "cell_type": "markdown",
      "metadata": {
        "id": "view-in-github",
        "colab_type": "text"
      },
      "source": [
        "<a href=\"https://colab.research.google.com/github/LorenzoMorabito/Python_exercise/blob/master/Interators_While_Loop.ipynb\" target=\"_parent\"><img src=\"https://colab.research.google.com/assets/colab-badge.svg\" alt=\"Open In Colab\"/></a>"
      ]
    },
    {
      "cell_type": "markdown",
      "source": [
        "Create  * **\n",
        "\n",
        "\n",
        "\n",
        " this shape with print and while loop statements\n",
        "\n",
        "\n",
        "\n"
      ],
      "metadata": {
        "id": "tCj0nx8syAXV"
      }
    },
    {
      "cell_type": "code",
      "execution_count": 5,
      "metadata": {
        "colab": {
          "base_uri": "https://localhost:8080/"
        },
        "id": "3B6XaOZ9x1yD",
        "outputId": "74a4bf38-0e09-449a-c393-c2f8942d50e9"
      },
      "outputs": [
        {
          "output_type": "stream",
          "name": "stdout",
          "text": [
            "*\n",
            "**\n",
            "***\n",
            "****\n",
            "*****\n"
          ]
        }
      ],
      "source": [
        "\n",
        "i = 1\n",
        "while i < 6:\n",
        "    print(\"*\"*i)\n",
        "    i+=1"
      ]
    }
  ]
}