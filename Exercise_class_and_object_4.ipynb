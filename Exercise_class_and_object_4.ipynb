{
  "nbformat": 4,
  "nbformat_minor": 0,
  "metadata": {
    "colab": {
      "provenance": [],
      "authorship_tag": "ABX9TyMe49qLIPcRiXa6kN7QlSE+",
      "include_colab_link": true
    },
    "kernelspec": {
      "name": "python3",
      "display_name": "Python 3"
    },
    "language_info": {
      "name": "python"
    }
  },
  "cells": [
    {
      "cell_type": "markdown",
      "metadata": {
        "id": "view-in-github",
        "colab_type": "text"
      },
      "source": [
        "<a href=\"https://colab.research.google.com/github/LorenzoMorabito/Python_exercise/blob/master/Exercise_class_and_object_4.ipynb\" target=\"_parent\"><img src=\"https://colab.research.google.com/assets/colab-badge.svg\" alt=\"Open In Colab\"/></a>"
      ]
    },
    {
      "cell_type": "markdown",
      "source": [
        "Exercise - Classes and Object\n",
        "Let's inherit Dog class from Animal add name(private) attribute to Dog class and then bark method to print woof woof\n",
        "\n",
        "print name_of_dog make it bark count the legs"
      ],
      "metadata": {
        "id": "5-hbiLRe62u4"
      }
    },
    {
      "cell_type": "code",
      "source": [
        "class Animal:\n",
        "  def __init__(self, name, _n_legs):\n",
        "    self.name = name\n",
        "    #_legs this shows us not to touch this variable its up to you\n",
        "    # if you want to change it you can but _ asks you politely not to do it.\n",
        "    self._n_legs = _n_legs\n",
        "    print(f\"Animal object {name} was created\")\n",
        "\n",
        "  def run(self):\n",
        "    return 'Running Started'\n",
        "\n",
        "  def count_legs(self):\n",
        "    return print(self._n_legs)\n",
        "\n",
        "  def return_legs(self):\n",
        "    return self._n_legs\n",
        "\n",
        "#Let's inherit Dog class from Animal\n",
        "class Dog(Animal):\n",
        "  def __init__(self, _name, n_legs): #add name(private) attribute\n",
        "    super() . __init__ (_name, n_legs) # call parent class\n",
        "    self._name = _name\n",
        "\n",
        "  def show_name(self):\n",
        "    return self._name\n",
        "\n",
        "  def bark(self):\n",
        "    return print('Bark bark')\n",
        "\n",
        "atena = Dog('Atena', 4)\n",
        "\n",
        "atena.bark()\n",
        "atena.count_legs()\n",
        "\n",
        ""
      ],
      "metadata": {
        "colab": {
          "base_uri": "https://localhost:8080/"
        },
        "id": "lxjxu80o2lUo",
        "outputId": "0318ac51-a586-42be-9384-a2823b773acb"
      },
      "execution_count": 33,
      "outputs": [
        {
          "output_type": "stream",
          "name": "stdout",
          "text": [
            "Animal object Atena was created\n",
            "Bark bark\n",
            "4\n"
          ]
        }
      ]
    }
  ]
}