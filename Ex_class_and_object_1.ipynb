{
  "nbformat": 4,
  "nbformat_minor": 0,
  "metadata": {
    "colab": {
      "provenance": [],
      "authorship_tag": "ABX9TyNggd2HuJm5wrpby9c1llHn",
      "include_colab_link": true
    },
    "kernelspec": {
      "name": "python3",
      "display_name": "Python 3"
    },
    "language_info": {
      "name": "python"
    }
  },
  "cells": [
    {
      "cell_type": "markdown",
      "metadata": {
        "id": "view-in-github",
        "colab_type": "text"
      },
      "source": [
        "<a href=\"https://colab.research.google.com/github/LorenzoMorabito/Python_exercise/blob/master/Ex_class_and_object_1.ipynb\" target=\"_parent\"><img src=\"https://colab.research.google.com/assets/colab-badge.svg\" alt=\"Open In Colab\"/></a>"
      ]
    },
    {
      "cell_type": "markdown",
      "source": [
        "### Exercise - Classes and Object\n",
        "Let's create Animal class and then create the animal object that runs and having 4 legs\n",
        "\n",
        "create animal object with leg count when created print \"Animal object was created\" and then call runs method of it and it prints \"Running started\""
      ],
      "metadata": {
        "id": "AbQh_gT42k8E"
      }
    },
    {
      "cell_type": "code",
      "source": [
        "class Animal:\n",
        "  def __init__(self, name, n_legs):\n",
        "    self.name = name\n",
        "    self.n_legs = name\n",
        "    print(f\"Animal object {name} was created\")\n",
        "\n",
        "  def run(self): #method\n",
        "    return 'Running Started'\n",
        "\n",
        "cat = Animal('Tom', 4)\n",
        "cat.run()\n",
        "\n",
        "\n",
        "\n"
      ],
      "metadata": {
        "colab": {
          "base_uri": "https://localhost:8080/",
          "height": 53
        },
        "id": "lxjxu80o2lUo",
        "outputId": "6fd22eee-d109-4692-f555-b19a19308659"
      },
      "execution_count": 3,
      "outputs": [
        {
          "output_type": "stream",
          "name": "stdout",
          "text": [
            "Animal object Tom was created\n"
          ]
        },
        {
          "output_type": "execute_result",
          "data": {
            "text/plain": [
              "'Running Started'"
            ],
            "application/vnd.google.colaboratory.intrinsic+json": {
              "type": "string"
            }
          },
          "metadata": {},
          "execution_count": 3
        }
      ]
    }
  ]
}