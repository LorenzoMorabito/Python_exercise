{
  "nbformat": 4,
  "nbformat_minor": 0,
  "metadata": {
    "colab": {
      "provenance": [],
      "authorship_tag": "ABX9TyPzoRE/qZZBuJYPFv6zTpRF",
      "include_colab_link": true
    },
    "kernelspec": {
      "name": "python3",
      "display_name": "Python 3"
    },
    "language_info": {
      "name": "python"
    }
  },
  "cells": [
    {
      "cell_type": "markdown",
      "metadata": {
        "id": "view-in-github",
        "colab_type": "text"
      },
      "source": [
        "<a href=\"https://colab.research.google.com/github/LorenzoMorabito/Python_exercise/blob/master/Iterators_For_Loop_2.ipynb\" target=\"_parent\"><img src=\"https://colab.research.google.com/assets/colab-badge.svg\" alt=\"Open In Colab\"/></a>"
      ]
    },
    {
      "cell_type": "markdown",
      "source": [
        "Check if it is time for coffee break if it is just break\n",
        "\n",
        "\n",
        "To do that lets iterate through given list don't change the COFFEE BREAK statement.\n",
        "\n",
        "\n",
        "just find another way to do it"
      ],
      "metadata": {
        "id": "SG4C7Sk13izY"
      }
    },
    {
      "cell_type": "code",
      "execution_count": 6,
      "metadata": {
        "colab": {
          "base_uri": "https://localhost:8080/"
        },
        "id": "Ut9CTA5N3cj3",
        "outputId": "176516ad-c7a2-4d4c-8e07-1fd2ab2d71fd"
      },
      "outputs": [
        {
          "output_type": "stream",
          "name": "stdout",
          "text": [
            "coffee break\n",
            "coffee break\n"
          ]
        }
      ],
      "source": [
        "todo = [\"exercise1\", \"exercise2\", \"exercise3\",\"coffee break\" ,\"exercise4\",\"exercise5\",\"exercise6\"]\n",
        "\n",
        "for x in todo:\n",
        "  if x.upper() == 'COFFEE BREAK':\n",
        "    print(x)\n",
        "    break\n",
        "\n",
        "i  = 0\n",
        "\n",
        "while i < len(todo):                        #itera finche i è minore del n di elementi in todo\n",
        "    parola = todo[i]                        # assegno il valore dell elemento corrente alla variabile temporanea parola\n",
        "    if parola.upper() == 'COFFEE BREAK':    # la mia condizione se la variabile parola scritta maiuscola e = 'COFFEE BREAK'\n",
        "      print(parola)                         # l'istruzione condizionale da eseguire se la condizione è true\n",
        "    i += 1\n",
        "\n"
      ]
    }
  ]
}